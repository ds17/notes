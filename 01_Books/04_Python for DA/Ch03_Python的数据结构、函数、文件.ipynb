{
 "cells": [
  {
   "cell_type": "markdown",
   "id": "52ec36a9",
   "metadata": {},
   "source": [
    "## 数据结构和序列\n",
    "### 元组\n",
    "#### `*rest`方法\n",
    "从元组的开头摘取几个元素。`rest`的名字不重要，惯用写法，将不需要的变量使用下划线。"
   ]
  },
  {
   "cell_type": "code",
   "execution_count": 2,
   "id": "205e4d49",
   "metadata": {},
   "outputs": [
    {
     "name": "stdout",
     "output_type": "stream",
     "text": [
      "[3, 4, 5]\n",
      "[3, 4, 5]\n"
     ]
    }
   ],
   "source": [
    "values = 1, 2, 3, 4, 5\n",
    "a, b, *rest_sss = values\n",
    "a, b, *_ = values\n",
    "print(rest_sss)\n",
    "print(_)"
   ]
  },
  {
   "cell_type": "markdown",
   "id": "e12c84ff",
   "metadata": {},
   "source": [
    "[进度](https://github.com/iamseancheney/python_for_data_analysis_2nd_chinese_version/blob/master/%E7%AC%AC03%E7%AB%A0%20Python%E7%9A%84%E6%95%B0%E6%8D%AE%E7%BB%93%E6%9E%84%E3%80%81%E5%87%BD%E6%95%B0%E5%92%8C%E6%96%87%E4%BB%B6.md#tuple%E6%96%B9%E6%B3%95)"
   ]
  }
 ],
 "metadata": {
  "kernelspec": {
   "display_name": "Python 3 (ipykernel)",
   "language": "python",
   "name": "python3"
  },
  "language_info": {
   "codemirror_mode": {
    "name": "ipython",
    "version": 3
   },
   "file_extension": ".py",
   "mimetype": "text/x-python",
   "name": "python",
   "nbconvert_exporter": "python",
   "pygments_lexer": "ipython3",
   "version": "3.8.13"
  },
  "toc": {
   "base_numbering": 1,
   "nav_menu": {},
   "number_sections": true,
   "sideBar": true,
   "skip_h1_title": false,
   "title_cell": "Table of Contents",
   "title_sidebar": "Contents",
   "toc_cell": false,
   "toc_position": {},
   "toc_section_display": true,
   "toc_window_display": false
  }
 },
 "nbformat": 4,
 "nbformat_minor": 5
}
