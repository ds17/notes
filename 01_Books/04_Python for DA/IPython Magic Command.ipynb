{
 "cells": [
  {
   "cell_type": "markdown",
   "metadata": {
    "toc": "true"
   },
   "source": [
    " # Table of Contents\n",
    "<div class=\"toc\" style=\"margin-top: 1em;\"><ul class=\"toc-item\" id=\"toc-level0\"><li><span><a href=\"http://localhost:8888/notebooks/Machine%20Learning/python%20for%20DA/IPython%20Magic%20Command.ipynb#Ipython-快捷命令\" data-toc-modified-id=\"Ipython-快捷命令-1\">Ipython 快捷命令</a></span><ul class=\"toc-item\"><li><span><a href=\"http://localhost:8888/notebooks/Machine%20Learning/python%20for%20DA/IPython%20Magic%20Command.ipynb#1---Magic-Command\" data-toc-modified-id=\"1---Magic-Command-1.1\">1 - Magic Command</a></span></li><li><span><a href=\"http://localhost:8888/notebooks/Machine%20Learning/python%20for%20DA/IPython%20Magic%20Command.ipynb#2---系统交互命令\" data-toc-modified-id=\"2---系统交互命令-1.2\">2 - 系统交互命令</a></span></li><li><span><a href=\"http://localhost:8888/notebooks/Machine%20Learning/python%20for%20DA/IPython%20Magic%20Command.ipynb#3---Ipython-shell-命令\" data-toc-modified-id=\"3---Ipython-shell-命令-1.3\">3 - Ipython shell 命令</a></span></li><li><span><a href=\"http://localhost:8888/notebooks/Machine%20Learning/python%20for%20DA/IPython%20Magic%20Command.ipynb#参考资料\" data-toc-modified-id=\"参考资料-1.4\">参考资料</a></span></li></ul></li></ul></div>"
   ]
  },
  {
   "cell_type": "markdown",
   "metadata": {},
   "source": [
    "# Ipython 快捷命令"
   ]
  },
  {
   "cell_type": "markdown",
   "metadata": {},
   "source": [
    "## 1 - Magic Command"
   ]
  },
  {
   "cell_type": "markdown",
   "metadata": {},
   "source": [
    "- `%quickref` 快捷命令快速参考，类似于 `help` 文档\n",
    "- `obj_name?` 返回对象的描述\n",
    "- `%magic` 显示所有魔术命令的详细文档\n",
    "- `%debug` 从最新的异常跟踪的底部进入交互式调试器\n",
    "- `%paste` 执行剪贴板中的Python代码\n",
    "- `%run script.py` 在IPython中执行一个Python脚本文件\n",
    "- `%who` 列出全局变量\n",
    "- `%who_ls`\t以排序列表的方式列出变量\n",
    "- `%whos`  类似who，但给出的信息更详细\n",
    "- `%pprint`\t美化打印"
   ]
  },
  {
   "cell_type": "code",
   "execution_count": 15,
   "metadata": {
    "scrolled": false
   },
   "outputs": [
    {
     "name": "stdout",
     "output_type": "stream",
     "text": [
      "Variable   Type     Data/Info\n",
      "-----------------------------\n",
      "dir_info   SList    [' 驱动器 D 中的卷没有标签。', ' 卷的序<...>for DA 的目录', '', '找不到文件']\n"
     ]
    }
   ],
   "source": [
    "%whos"
   ]
  },
  {
   "cell_type": "markdown",
   "metadata": {},
   "source": [
    "## 2 - 系统交互命令"
   ]
  },
  {
   "cell_type": "markdown",
   "metadata": {},
   "source": [
    "- `%pwd` 返回系统的当前工作目录\n",
    "- `%!cmd` 在系统shell中执行cmd\n",
    "- `dir_info = !dir ipython` 中的变量可以保存系统shell中返回的结果\n",
    "- `%bookmark` 使用IPython的目录书签系统"
   ]
  },
  {
   "cell_type": "code",
   "execution_count": 3,
   "metadata": {
    "scrolled": true
   },
   "outputs": [
    {
     "data": {
      "text/plain": [
       "'D:\\\\F Virtual\\\\Codes\\\\py\\\\pycharm\\\\GitHub\\\\reptiles_gh\\\\Machine Learning\\\\python for DA'"
      ]
     },
     "execution_count": 3,
     "metadata": {},
     "output_type": "execute_result"
    }
   ],
   "source": [
    "%pwd"
   ]
  },
  {
   "cell_type": "code",
   "execution_count": 4,
   "metadata": {
    "scrolled": true
   },
   "outputs": [
    {
     "data": {
      "text/plain": [
       "[' 驱动器 D 中的卷没有标签。',\n",
       " ' 卷的序列号是 866A-93C4',\n",
       " '',\n",
       " ' D:\\\\F Virtual\\\\Codes\\\\py\\\\pycharm\\\\GitHub\\\\reptiles_gh\\\\Machine Learning\\\\python for DA 的目录',\n",
       " '',\n",
       " '找不到文件']"
      ]
     },
     "execution_count": 4,
     "metadata": {},
     "output_type": "execute_result"
    }
   ],
   "source": [
    "dir_info = !dir ipython\n",
    "dir_info"
   ]
  },
  {
   "cell_type": "code",
   "execution_count": 13,
   "metadata": {
    "scrolled": false
   },
   "outputs": [],
   "source": [
    "%colors?"
   ]
  },
  {
   "cell_type": "markdown",
   "metadata": {},
   "source": [
    "## 3 - Ipython shell 命令"
   ]
  },
  {
   "cell_type": "markdown",
   "metadata": {},
   "source": [
    "- Ctrl-P   或上箭头键后向搜索命令历史中以当前输入的文本开头的命令\n",
    "- Ctrl-N   或下箭头键前向搜索命令历史中以当前输入的文本开头的命令\n",
    "- Ctrl-R   按行读取的反向历史搜索（部分匹配）\n",
    "- Ctrl-Shift-v   从剪贴板粘贴文本\n",
    "- Ctrl-C   中止当前正在执行的代码\n",
    "- Ctrl-A   将光标移动到行首\n",
    "- Ctrl-E   将光标移动到行尾\n",
    "- Ctrl-K   删除从光标开始至行尾的文本\n",
    "- Ctrl-U   清除当前行的所有文本译注12\n",
    "- Ctrl-F   将光标向前移动一个字符\n",
    "- Ctrl-b   将光标向后移动一个字符\n",
    "- Ctrl-L   清屏"
   ]
  },
  {
   "cell_type": "markdown",
   "metadata": {},
   "source": [
    "## 参考资料\n",
    "1. [ipython 快捷键 魔术命令 以及系统交互命令](http://blog.csdn.net/aliengrey/article/details/52208490)\n",
    "2. [Jupyter 魔术命令（magic commands）](https://segmentfault.com/a/1190000010758722)\n",
    "3. [Built-in magic commands](http://ipython.readthedocs.io/en/stable/interactive/magics.html#built-in-magic-commands)"
   ]
  }
 ],
 "metadata": {
  "kernelspec": {
   "display_name": "Python 3",
   "language": "python",
   "name": "python3"
  },
  "language_info": {
   "codemirror_mode": {
    "name": "ipython",
    "version": 3
   },
   "file_extension": ".py",
   "mimetype": "text/x-python",
   "name": "python",
   "nbconvert_exporter": "python",
   "pygments_lexer": "ipython3",
   "version": "3.5.3"
  },
  "toc": {
   "nav_menu": {},
   "number_sections": false,
   "sideBar": false,
   "skip_h1_title": false,
   "toc_cell": true,
   "toc_position": {
    "height": "320px",
    "left": "1349px",
    "right": "41px",
    "top": "122px",
    "width": "210px"
   },
   "toc_section_display": "block",
   "toc_window_display": true
  }
 },
 "nbformat": 4,
 "nbformat_minor": 2
}
