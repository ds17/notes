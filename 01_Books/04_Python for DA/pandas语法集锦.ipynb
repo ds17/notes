{
 "cells": [
  {
   "cell_type": "markdown",
   "id": "75799046",
   "metadata": {},
   "source": [
    "# 删除空值行\n",
    "某一列含某关键词时删除整行<br>\n",
    "`df[df[\"列名称\"].str.contains(\"关键词\")==False]`\n",
    "\n",
    "某一列值为空时删除整行<br>\n",
    "`df.dropna(subset=[\"列名称\"])`\n",
    "\n",
    "删除一些行后，重置索引<br>\n",
    "`df.reset_index(drop=True)` ，`drop=True`时丢弃原来的索引\n",
    "\n",
    "删除整列都是空值的列<br>\n",
    "`df.dropna(axis = 1, how='all')`\n",
    "\n",
    "删除整行都是空值的行<br>\n",
    "`df.dropna(axis = 0, how='all')`\n",
    "\n",
    "添加空白列<br>\n",
    "`df['新列_1','新列_2','新列_3'] = np.nan`"
   ]
  },
  {
   "cell_type": "markdown",
   "id": "f1fb3f55",
   "metadata": {},
   "source": [
    "# 其他"
   ]
  },
  {
   "cell_type": "markdown",
   "id": "2ab9713d",
   "metadata": {},
   "source": [
    "某单元格赋值<br>\n",
    "`df.loc[index,\"column_name\"]= new_value`"
   ]
  },
  {
   "cell_type": "markdown",
   "id": "65005e60",
   "metadata": {},
   "source": [
    "特定的几列求最大值<br>\n",
    "`df['max_value'] = df['列1','列2','列3'].max(axis = 1,skipna=True)`"
   ]
  },
  {
   "cell_type": "markdown",
   "id": "40ed6fcb",
   "metadata": {},
   "source": [
    "多个`dataframe`合并<br>\n",
    "`df_all = pd.merge(df_left,df_right,how='left', left_on='左表匹配列名称', right_on ='右表匹配列名称' )`"
   ]
  },
  {
   "cell_type": "markdown",
   "id": "6a617317",
   "metadata": {},
   "source": [
    "提取所有a、b之间的字符串<br>\n",
    "`re.findall(r\"a(.+?)b\",text)`"
   ]
  },
  {
   "cell_type": "code",
   "execution_count": 4,
   "id": "4c2f6f7a",
   "metadata": {},
   "outputs": [
    {
     "data": {
      "text/plain": [
       "['12', '15', '17']"
      ]
     },
     "execution_count": 4,
     "metadata": {},
     "output_type": "execute_result"
    }
   ],
   "source": [
    "text = \"长12cm,鞍山市嘎是否，长15cm，单佳覅方家，长17cm\"\n",
    "re_find = re.findall(r\"长(.+?)cm\", text)\n",
    "re_find"
   ]
  }
 ],
 "metadata": {
  "kernelspec": {
   "display_name": "Python 3 (ipykernel)",
   "language": "python",
   "name": "python3"
  },
  "language_info": {
   "codemirror_mode": {
    "name": "ipython",
    "version": 3
   },
   "file_extension": ".py",
   "mimetype": "text/x-python",
   "name": "python",
   "nbconvert_exporter": "python",
   "pygments_lexer": "ipython3",
   "version": "3.8.13"
  },
  "toc": {
   "base_numbering": 1,
   "nav_menu": {},
   "number_sections": true,
   "sideBar": true,
   "skip_h1_title": false,
   "title_cell": "Table of Contents",
   "title_sidebar": "Contents",
   "toc_cell": false,
   "toc_position": {},
   "toc_section_display": true,
   "toc_window_display": false
  }
 },
 "nbformat": 4,
 "nbformat_minor": 5
}
