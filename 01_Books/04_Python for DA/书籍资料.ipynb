{
 "cells": [
  {
   "cell_type": "markdown",
   "id": "6529a71b",
   "metadata": {},
   "source": [
    "第二版开源书：[用Python进行数据分析（原书第二版）by seancheney](https://github.com/iamseancheney/python_for_data_analysis_2nd_chinese_version)\n",
    "\n",
    "\n",
    "原书作者第二版代码及数据集：[pydata-book](https://github.com/wesm/pydata-book/tree/2nd-edition)\n",
    "\n",
    "第三版开源书籍（英文版）：[Python for Data Analysis, 3E](https://wesmckinney.com/book/)\n",
    "\n",
    "\n",
    "Pandas中文论坛：[Pandas.cn](https://www.pypandas.cn/)"
   ]
  }
 ],
 "metadata": {
  "kernelspec": {
   "display_name": "Python 3 (ipykernel)",
   "language": "python",
   "name": "python3"
  },
  "language_info": {
   "codemirror_mode": {
    "name": "ipython",
    "version": 3
   },
   "file_extension": ".py",
   "mimetype": "text/x-python",
   "name": "python",
   "nbconvert_exporter": "python",
   "pygments_lexer": "ipython3",
   "version": "3.8.13"
  },
  "toc": {
   "base_numbering": 1,
   "nav_menu": {},
   "number_sections": true,
   "sideBar": true,
   "skip_h1_title": false,
   "title_cell": "Table of Contents",
   "title_sidebar": "Contents",
   "toc_cell": false,
   "toc_position": {},
   "toc_section_display": true,
   "toc_window_display": false
  }
 },
 "nbformat": 4,
 "nbformat_minor": 5
}
