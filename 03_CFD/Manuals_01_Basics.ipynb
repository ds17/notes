{
 "cells": [
  {
   "cell_type": "markdown",
   "metadata": {
    "toc": "true"
   },
   "source": [
    " # Table of Contents\n",
    "<div class=\"toc\" style=\"margin-top: 1em;\"><ul class=\"toc-item\" id=\"toc-level0\"><li><span><a href=\"http://localhost:8888/notebooks/notes/03_CFD/Manuals_01_Basics.ipynb#Outline-of--Thermal-Fluid-Analysis\" data-toc-modified-id=\"Outline-of--Thermal-Fluid-Analysis-1\"><span class=\"toc-item-num\">1&nbsp;&nbsp;</span>Outline of  Thermal Fluid Analysis</a></span><ul class=\"toc-item\"><li><span><a href=\"http://localhost:8888/notebooks/notes/03_CFD/Manuals_01_Basics.ipynb#术语\" data-toc-modified-id=\"术语-1.1\"><span class=\"toc-item-num\">1.1&nbsp;&nbsp;</span>术语</a></span><ul class=\"toc-item\"><li><span><a href=\"http://localhost:8888/notebooks/notes/03_CFD/Manuals_01_Basics.ipynb#物理/化学\" data-toc-modified-id=\"物理/化学-1.1.1\"><span class=\"toc-item-num\">1.1.1&nbsp;&nbsp;</span>物理/化学</a></span></li><li><span><a href=\"http://localhost:8888/notebooks/notes/03_CFD/Manuals_01_Basics.ipynb#流体力学\" data-toc-modified-id=\"流体力学-1.1.2\"><span class=\"toc-item-num\">1.1.2&nbsp;&nbsp;</span>流体力学</a></span></li><li><span><a href=\"http://localhost:8888/notebooks/notes/03_CFD/Manuals_01_Basics.ipynb#传热学\" data-toc-modified-id=\"传热学-1.1.3\"><span class=\"toc-item-num\">1.1.3&nbsp;&nbsp;</span>传热学</a></span></li><li><span><a href=\"http://localhost:8888/notebooks/notes/03_CFD/Manuals_01_Basics.ipynb#热力学\" data-toc-modified-id=\"热力学-1.1.4\"><span class=\"toc-item-num\">1.1.4&nbsp;&nbsp;</span>热力学</a></span></li><li><span><a href=\"http://localhost:8888/notebooks/notes/03_CFD/Manuals_01_Basics.ipynb#CFD\" data-toc-modified-id=\"CFD-1.1.5\"><span class=\"toc-item-num\">1.1.5&nbsp;&nbsp;</span>CFD</a></span></li></ul></li></ul></li><li><span><a href=\"http://localhost:8888/notebooks/notes/03_CFD/Manuals_01_Basics.ipynb#Outline-of-Analysis-Procedure\" data-toc-modified-id=\"Outline-of-Analysis-Procedure-2\"><span class=\"toc-item-num\">2&nbsp;&nbsp;</span>Outline of Analysis Procedure</a></span><ul class=\"toc-item\"><li><span><a href=\"http://localhost:8888/notebooks/notes/03_CFD/Manuals_01_Basics.ipynb#Equations\" data-toc-modified-id=\"Equations-2.1\"><span class=\"toc-item-num\">2.1&nbsp;&nbsp;</span>Equations</a></span></li><li><span><a href=\"http://localhost:8888/notebooks/notes/03_CFD/Manuals_01_Basics.ipynb#边界条件\" data-toc-modified-id=\"边界条件-2.2\"><span class=\"toc-item-num\">2.2&nbsp;&nbsp;</span>边界条件</a></span></li><li><span><a href=\"http://localhost:8888/notebooks/notes/03_CFD/Manuals_01_Basics.ipynb#收敛\" data-toc-modified-id=\"收敛-2.3\"><span class=\"toc-item-num\">2.3&nbsp;&nbsp;</span>收敛</a></span></li></ul></li><li><span><a href=\"http://localhost:8888/notebooks/notes/03_CFD/Manuals_01_Basics.ipynb#Finite-Volume-Method\" data-toc-modified-id=\"Finite-Volume-Method-3\"><span class=\"toc-item-num\">3&nbsp;&nbsp;</span>Finite Volume Method</a></span><ul class=\"toc-item\"><li><span><a href=\"http://localhost:8888/notebooks/notes/03_CFD/Manuals_01_Basics.ipynb#控制方程\" data-toc-modified-id=\"控制方程-3.1\"><span class=\"toc-item-num\">3.1&nbsp;&nbsp;</span>控制方程</a></span></li><li><span><a href=\"http://localhost:8888/notebooks/notes/03_CFD/Manuals_01_Basics.ipynb#动量控制方程\" data-toc-modified-id=\"动量控制方程-3.2\"><span class=\"toc-item-num\">3.2&nbsp;&nbsp;</span>动量控制方程</a></span></li><li><span><a href=\"http://localhost:8888/notebooks/notes/03_CFD/Manuals_01_Basics.ipynb#Transport-phenomena-of-conservation-quantities\" data-toc-modified-id=\"Transport-phenomena-of-conservation-quantities-3.3\"><span class=\"toc-item-num\">3.3&nbsp;&nbsp;</span>Transport phenomena of conservation quantities</a></span></li><li><span><a href=\"http://localhost:8888/notebooks/notes/03_CFD/Manuals_01_Basics.ipynb#Locations-of-physical-variables\" data-toc-modified-id=\"Locations-of-physical-variables-3.4\"><span class=\"toc-item-num\">3.4&nbsp;&nbsp;</span>Locations of physical variables</a></span></li><li><span><a href=\"http://localhost:8888/notebooks/notes/03_CFD/Manuals_01_Basics.ipynb#Steady-and-Transient-analysis\" data-toc-modified-id=\"Steady-and-Transient-analysis-3.5\"><span class=\"toc-item-num\">3.5&nbsp;&nbsp;</span>Steady and Transient analysis</a></span><ul class=\"toc-item\"><li><span><a href=\"http://localhost:8888/notebooks/notes/03_CFD/Manuals_01_Basics.ipynb#非定常解析\" data-toc-modified-id=\"非定常解析-3.5.1\"><span class=\"toc-item-num\">3.5.1&nbsp;&nbsp;</span><strong>非定常解析</strong></a></span></li><li><span><a href=\"http://localhost:8888/notebooks/notes/03_CFD/Manuals_01_Basics.ipynb#Courant-number\" data-toc-modified-id=\"Courant-number-3.5.2\"><span class=\"toc-item-num\">3.5.2&nbsp;&nbsp;</span><strong>Courant number</strong></a></span></li><li><span><a href=\"http://localhost:8888/notebooks/notes/03_CFD/Manuals_01_Basics.ipynb#定常解析$^{P58}$\" data-toc-modified-id=\"定常解析$^{P58}$-3.5.3\"><span class=\"toc-item-num\">3.5.3&nbsp;&nbsp;</span>定常解析$^{P58}$</a></span></li><li><span><a href=\"http://localhost:8888/notebooks/notes/03_CFD/Manuals_01_Basics.ipynb#补充说明\" data-toc-modified-id=\"补充说明-3.5.4\"><span class=\"toc-item-num\">3.5.4&nbsp;&nbsp;</span>补充说明</a></span></li></ul></li></ul></li><li><span><a href=\"http://localhost:8888/notebooks/notes/03_CFD/Manuals_01_Basics.ipynb#Basic-Equations\" data-toc-modified-id=\"Basic-Equations-4\"><span class=\"toc-item-num\">4&nbsp;&nbsp;</span>Basic Equations</a></span><ul class=\"toc-item\"><li><span><a href=\"http://localhost:8888/notebooks/notes/03_CFD/Manuals_01_Basics.ipynb#Conservation-Law\" data-toc-modified-id=\"Conservation-Law-4.1\"><span class=\"toc-item-num\">4.1&nbsp;&nbsp;</span>Conservation Law</a></span><ul class=\"toc-item\"><li><span><a href=\"http://localhost:8888/notebooks/notes/03_CFD/Manuals_01_Basics.ipynb#$k-\\epsilon$-两方程模型$^{数值传热学P347}$\" data-toc-modified-id=\"$k-\\epsilon$-两方程模型$^{数值传热学P347}$-4.1.1\"><span class=\"toc-item-num\">4.1.1&nbsp;&nbsp;</span>$k-\\epsilon$ 两方程模型$^{数值传热学P347}$</a></span></li></ul></li><li><span><a href=\"http://localhost:8888/notebooks/notes/03_CFD/Manuals_01_Basics.ipynb#Derivation-of-Mass-Conservation-Equation\" data-toc-modified-id=\"Derivation-of-Mass-Conservation-Equation-4.2\"><span class=\"toc-item-num\">4.2&nbsp;&nbsp;</span>Derivation of Mass Conservation Equation</a></span></li><li><span><a href=\"http://localhost:8888/notebooks/notes/03_CFD/Manuals_01_Basics.ipynb#ALE方法\" data-toc-modified-id=\"ALE方法-4.3\"><span class=\"toc-item-num\">4.3&nbsp;&nbsp;</span>ALE方法</a></span></li></ul></li><li><span><a href=\"http://localhost:8888/notebooks/notes/03_CFD/Manuals_01_Basics.ipynb#Boundary-Condition\" data-toc-modified-id=\"Boundary-Condition-5\"><span class=\"toc-item-num\">5&nbsp;&nbsp;</span>Boundary Condition</a></span><ul class=\"toc-item\"><li><span><a href=\"http://localhost:8888/notebooks/notes/03_CFD/Manuals_01_Basics.ipynb#Inflow-and-outflow-boundary\" data-toc-modified-id=\"Inflow-and-outflow-boundary-5.1\"><span class=\"toc-item-num\">5.1&nbsp;&nbsp;</span>Inflow and outflow boundary</a></span><ul class=\"toc-item\"><li><span><a href=\"http://localhost:8888/notebooks/notes/03_CFD/Manuals_01_Basics.ipynb#Fixed-total-pressure\" data-toc-modified-id=\"Fixed-total-pressure-5.1.1\"><span class=\"toc-item-num\">5.1.1&nbsp;&nbsp;</span>Fixed total pressure</a></span></li></ul></li></ul></li></ul></div>"
   ]
  },
  {
   "cell_type": "markdown",
   "metadata": {},
   "source": [
    "# Outline of  Thermal Fluid Analysis"
   ]
  },
  {
   "cell_type": "markdown",
   "metadata": {},
   "source": [
    "## 术语\n",
    "### 物理/化学\n",
    "|英文|中文|\n",
    "|:--|:--|\n",
    "|mass fraction|质量分数\n",
    "|molar fraction|摩尔分数\n",
    "|concentration|浓度\n",
    "|mass conservation|质量守恒\n",
    "|shear stress|剪应力\n",
    "|tetrahedron|四面体\n",
    "|pyramid|角锥体\n",
    "|prism|棱柱\n",
    "|hexahedron|六面体\n",
    "|discretize|使离散"
   ]
  },
  {
   "cell_type": "markdown",
   "metadata": {
    "collapsed": true
   },
   "source": [
    "### 流体力学\n",
    "|英文|中文|\n",
    "|:--|:--|\n",
    "|static pressure|静压\n",
    "|dynamic pressure|动压\n",
    "|total pressure|全压\n",
    "|compressibility|可压缩机性\n",
    "|incompressible flow|不可压缩流体：流体密度变化可忽略的流动<br>不可压缩条件：$\\frac{△\\rho}{\\rho}\\approx\\frac{1}{2}MC^{2}<0.045$ → $Mc=\\frac{V}{C}=\\frac{V}{\\sqrt{k\\cdot R \\cdot T}}<0.3$\n",
    "|buoyancy|浮力\n",
    "|eddy|涡流\n",
    "|viscosity|黏性\n",
    "|eddy viscosity|[涡粘系数](https://baike.baidu.com/item/%E6%B6%A1%E7%B2%98%E7%B3%BB%E6%95%B0/19277129?fr=aladdin)\n",
    "|turbulence kinetic energy|[湍流动能](https://baike.baidu.com/item/%E6%B9%8D%E6%B5%81%E5%8A%A8%E8%83%BD/4317324?fr=aladdin&fromid=16813218&fromtitle=%E6%B9%8D%E5%8A%A8%E8%83%BD)\n",
    "|turbulence dissipation rate|[湍流动能耗散率](https://baike.baidu.com/item/%E6%B9%8D%E6%B5%81%E5%8A%A8%E8%83%BD%E8%80%97%E6%95%A3%E7%8E%87/4317246?fr=aladdin)\n",
    "|Mach number|马赫数\n",
    "|equivalent diameter|当量直径\n",
    "|Boussinesq approximation|[布辛涅司克近似](https://baike.baidu.com/item/%E5%B8%83%E8%BE%9B%E6%B6%85%E5%8F%B8%E5%85%8B%E8%BF%91%E4%BC%BC/5627991)：流体密度跟压强和温度有关，低速流动中，忽略压强变化引起的密度变化\n",
    "|volume expansion coefficient|体积膨胀系数\n",
    "|perfect fluid|理想流体：不可压缩、不计粘性（粘度为零）的流体，各层之间没有相互作用的切应力,即没有内摩擦力|\n",
    "|Newtonian fluid|牛顿流体：任一点上的剪应力都同剪切变形速率呈线性函数关系的流体称为牛顿流体|\n",
    "|non-Newtonian fluid|非牛顿流体|\n",
    "|flow rate|流量|"
   ]
  },
  {
   "cell_type": "markdown",
   "metadata": {},
   "source": [
    "### 传热学\n",
    "|英文|中文|\n",
    "|:--|:--|\n",
    "|view factor/angle factor|辐射角系数"
   ]
  },
  {
   "cell_type": "markdown",
   "metadata": {},
   "source": [
    "### 热力学\n",
    "|英文|中文|\n",
    "|:--|:--|\n",
    "|gas constant|气体常数\n",
    "|specific enthapy|比焓\n",
    "|specific heat at constant pressure|定压比熱，$C_p$\n",
    "|specific heat at constant volume|定容比热，$C_v$\n",
    "|specific heat ratio|比热容比，$\\frac{C_p}{Cv}$\n",
    "|adiabatic|绝热"
   ]
  },
  {
   "cell_type": "markdown",
   "metadata": {},
   "source": [
    "### CFD\n",
    "\n",
    "|英文|中文|\n",
    "|:--|:--|\n",
    "|Computational domain|计算空间\n",
    "|governing equations|控制方程"
   ]
  },
  {
   "cell_type": "markdown",
   "metadata": {
    "collapsed": true
   },
   "source": [
    "# Outline of Analysis Procedure\n",
    "## Equations"
   ]
  },
  {
   "cell_type": "markdown",
   "metadata": {},
   "source": [
    "|||\n",
    "|:--|:--|\n",
    "|Flow|U/V/W: momentum conservation equations<br>P: mass conservation\n",
    "|temperature|energy conservation\n",
    "|Turbulence|$k-ε$ ModeL<br>$k$: turbulence energy<br>$ε$: turbulence dissipation rate\n",
    "\n",
    "$k、ε$无输入，默认 $10^{-4}$"
   ]
  },
  {
   "cell_type": "markdown",
   "metadata": {
    "collapsed": true
   },
   "source": [
    "## 边界条件\n",
    "\n",
    "1. 力学条件\n",
    " - 层流边界层：Non-slip condition，有摩擦<br>\n",
    " - 湍流边界层：Logarithmic-law condition，因湍流有垂直流向的动量交换，下端丰满一些\n",
    "![速度分布](https://gss2.bdstatic.com/9fo3dSag_xI4khGkpoWK1HF6hhy/baike/w%3D268/sign=5f01672124a446237ecaa264a0237246/b7003af33a87e9500709ee3714385343fbf2b44a.jpg)\n",
    "\n",
    "2. 边界温度条件<br>\n",
    "层流/湍流，对应不同条件，温度分布不一样![](images/temperature_dis.jpg)"
   ]
  },
  {
   "cell_type": "markdown",
   "metadata": {},
   "source": [
    "结构化网格：节点之间互相关联的拓扑结构\n",
    "\n",
    "非结构化网格：网格区域内的内部点不具有相同数量的毗邻单元"
   ]
  },
  {
   "cell_type": "markdown",
   "metadata": {},
   "source": [
    "## 收敛\n",
    "P38<br>\n",
    "对于稳态计算：SC/Tetra判断收敛的条件是 one step 变化值小于给定的收敛条件，即认为已经收敛，一旦判断收敛，即停止计算，但这有可能只是\"伪收敛\"。<br>\n",
    "\"伪收敛\"：△变化已小于收敛条件，但实际物理值，任有上升趋势。下图中：在 A 处 停止计算为伪收敛，stop at B will be better.![](images/convergence_time.jpg)\n",
    "\n",
    "为防止“**伪收敛**”：对于稳态计算也输出 time-series charts 来确认是否过早停止计算。<br>\n"
   ]
  },
  {
   "cell_type": "markdown",
   "metadata": {},
   "source": [
    "# Finite Volume Method\n",
    "## 控制方程\n",
    "\n",
    "有限体积法\n",
    "- 根据边界条件和起始条件，以控制单元(网格)为个体，求解控制方程\n",
    "\n",
    "控制方程：\n",
    "- 动量守恒，`N-S` 公式(Navier-Strokes equations)\n",
    "- 连续方程\n",
    "- 能量守恒\n",
    "- 湍动能交换（turbulent transport）"
   ]
  },
  {
   "cell_type": "markdown",
   "metadata": {},
   "source": [
    "## 动量控制方程\n",
    "**压力修正**——SIMPLE算法<br>\n",
    "1. 分别假设速度分布、压力分布场$P_0$\n",
    "2. 求解动量方程\n",
    "3. 求解的速度方程要满足质量守恒，不满足 → 对压力进行修正，得到$P_1$\n",
    "4. 根据$P_1$改进速度值，直到质量守恒\n",
    "![计算流程](https://gss0.bdstatic.com/94o3dSag_xI4khGkpoWK1HF6hhy/baike/c0%3Dbaike80%2C5%2C5%2C80%2C26/sign=21bddffeb41bb0519b29bb7a5713b1d1/30adcbef76094b362465c831a4cc7cd98c109d73.jpg)\n",
    "\n",
    "**自然对流**\n",
    "- 考虑重力影响\n",
    "- 需指定*体积膨胀系数*\n",
    "<br>例：空调制冷/制热运行时，空气选择带热对流的状态，考虑重力因素\n"
   ]
  },
  {
   "cell_type": "markdown",
   "metadata": {},
   "source": [
    "## Transport phenomena of conservation quantities\n",
    "传递过程的物理量守恒，P45 <!--我是注释-->"
   ]
  },
  {
   "cell_type": "markdown",
   "metadata": {},
   "source": [
    "对流扩散方程\n",
    "1. 时间项，Temporal term  \n",
    "   - 时间累积结果，表现在对流项和扩散项上\n",
    "2. 对流项，Convection term  \n",
    "   - 气体对流\n",
    "3. 扩散项，diffusion term  \n",
    "   - 热传导\n",
    "4. 源和汇，Generation term\n",
    "![](images/对流扩散方程.jpg)"
   ]
  },
  {
   "cell_type": "markdown",
   "metadata": {},
   "source": [
    "## Locations of physical variables\n",
    "节点设置方法\n",
    "**体积控制方式**$_{P50}$\n",
    "- **单元中心法**（内节点法$^{数值传热学P29}$），cell-centered scheme\n",
    " - 节点位于子区域中心\n",
    " - 子区域就是控制容积\n",
    " - 划分子区域的曲线簇就是控制体的界面线\n",
    " - 先界面后节点\n",
    " - 以一个网格单元为控制容积  \n",
    "<br>\n",
    "- **单元顶点法**（外节点法$^{数值传热学P29}$），vertex-based schem \n",
    " - 节点位于子区域的角顶上\n",
    " - 划分子区域的曲线簇就是网格线\n",
    " - 相邻两节点的中间位置作界面线\n",
    " - 界面线构成各节点的控制容积\n",
    " - 一个节点 + 网格体质点 + 网格边中点\n",
    " - encloses a **node point** in a control volume by connecting the **centroid** of each element and the **medians** of edges\n",
    "\n",
    "**SC/Tetra中**  \n",
    "SC/Tetra采用单元顶点法。交界面需要被显性定义，防止一个“控制体积”包含两种或以上不同的materials。因此会在分界面插入没有物理厚度的 `gap element` 。引入`gap element`后，SCTPre中节点索引与solver输出的基于gap element的节点索引是不同的。\n",
    "\n",
    "\n"
   ]
  },
  {
   "cell_type": "markdown",
   "metadata": {},
   "source": [
    "## Steady and Transient analysis\n",
    "定常/非定常分析$^{P53}$"
   ]
  },
  {
   "cell_type": "markdown",
   "metadata": {
    "collapsed": true
   },
   "source": [
    "### **非定常解析**\n",
    "**迭代过程**（例如温度迭代）：\n",
    "- 已知$t$时刻的状态（非定常解析，初始条件很重要）\n",
    "- 对$\\Delta t$时间后的温度值进行假设\n",
    "- 根据所有控制体积的能量控制方程，推导出一个超越方程组\n",
    "- 对超越方程组进行迭代，求出迭代解（迭代到收敛为止）\n",
    "- 进入下一个Cycle，进入下一个$\\Delta t$的求解\n",
    "\n",
    "**时间步长**：特征长度 除以 特征速度 的值，再小一到两个数量级  \n",
    "**Cycle数**：cycle数 $\\times$ time step size = 实际时间积累  \n",
    "\n",
    "**条件设置**   \n",
    "非定常计算时，两中设置方式  \n",
    "- 指定时间步长（需满足：$C\\leqslant1$）\n",
    "- 指定CFL（间接指定时间步长）：根据CFL及速度算出时间步长。  \n",
    "\n"
   ]
  },
  {
   "cell_type": "markdown",
   "metadata": {},
   "source": [
    "### **Courant number**  \n",
    "[库朗数](https://baike.baidu.com/item/%E5%BA%93%E6%9C%97%E6%95%B0/3753657?fr=aladdin)$^{P55}$  \n",
    "- 时间步长与空间步长的关系\n",
    "- 太大：收敛速度快，稳定性差\n",
    "- 太小：收敛速度差，但比较稳定\n",
    "\n",
    "操作Guideline：从小开始设置，根据残差收敛情况，适当增大，找到一个合适的数值\n",
    "\n",
    "计算：$\\Delta t=\\frac{\\Delta L}{U}\\times C$\n",
    "![](images/库朗数计算.jpg)\n",
    "For a better accuracy：$C\\leqslant1$  \n",
    "C=1：计算的一个时间步长内 某质点 刚好跨越一个网格\n",
    "\n",
    "**SC/Tetra中时间步长计算**$^{P56}$  \n",
    "有两中方法\n",
    " - Control volume (CV) based method (default)\n",
    " - Element bounding box based method\n",
    " \n",
    "注：\n",
    "   1. 当指定库朗数时，因为要计算$\\Delta t$，因此初始速度不能为0\n",
    "   2. 对于发散的解析，可以减小$\\Delta t$ 或 $CFL$来达到收敛"
   ]
  },
  {
   "cell_type": "markdown",
   "metadata": {},
   "source": [
    "### 定常解析$^{P58}$\n",
    "1. 定常解析，只关注最后的稳定状态<br><br>\n",
    "2. 解析过程，类似于非定常解析<br><br>\n",
    "3. 软件自动对下一个参数值进行假设，并根据迭代结果自动调整发散的猜测<br><br>\n",
    "4. 但有时，依靠软件自动调整 time-step 已经无法回到收敛 或者 软件默认参数收敛太慢；这时需人为调整如下两个参数\n",
    " - Pseudo time-step relaxation parameter\n",
    "     - 对应于非定常解析的 time-step-size\n",
    "     - 稳态计算时，为了加速收敛，CFL默认设置的比较大，可能导致发散\n",
    "     - 人为设置：针对不同的控制方程，设置不同的CFL。例如能量控制方程稳定，设置较大的CFL；动量方程波动大设置较小的CFL\n",
    " - Under-relaxation parameter\n",
    "     - ranges from 0 to 1\n",
    "     - 限制物理量的增长速度\n",
    "     - 在取值较小时，时间增长也被严格限制"
   ]
  },
  {
   "cell_type": "markdown",
   "metadata": {},
   "source": [
    "### 补充说明\n",
    "**求解器设定**  \n",
    "1. 初始化时间步长设定  \n",
    "   sovler setting → Time → Specify initial time of analysis\n",
    "<br><br>\n",
    "2. 收敛判定值设定  \n",
    "   sovler setting → convergence criteria\n",
    "<br><br>\n",
    "3. 每个Cycle迭代次数 及 迭代终止条件设定  \n",
    "   sovler setting →  Loop\n",
    "   \n",
    "**定常/非定常交替计算**\n",
    "- 默认计算时，温度场/流场同时计算\n",
    "- 强制对流，当可以忽略温度引起的浮力对流场的影响时，温度场/速度场分开计算，来加速\n",
    "    - 将两个厂 去耦 (decouple)\n",
    "    - 稳态下计算速度场\n",
    "    - 结束后，用restart文件接着算非定常的温度场"
   ]
  },
  {
   "cell_type": "markdown",
   "metadata": {},
   "source": [
    "# Basic Equations\n",
    "\n",
    "## Conservation Law\n",
    "\n",
    "### $k-\\epsilon$ 两方程模型$^{数值传热学P347}$\n",
    "\n",
    "$k^{数传P339}$：单位质量流体**湍流脉动动能**（时均速度表示的动能）  \n",
    "$$k=\\frac{1}{2}(\\overline{u'^2}+\\overline{v'^2}+\\overline{w'^2})$$\n",
    "物理量$\\phi$的时均值：$\\overline{\\phi} = \\frac{1}{\\Delta t}\\int_t ^{t + \\Delta t} \\phi(t)dt$，$\\Delta t$ 相对于湍流随机脉动足够大，相对于流场时均量的缓慢变化周期足够小。"
   ]
  },
  {
   "cell_type": "markdown",
   "metadata": {
    "collapsed": true
   },
   "source": [
    "**$\\epsilon$，脉动动能耗散率**：  \n",
    "湍流中单位质量流体脉动动能的耗散率，即各向同性的小尺度涡的机械能转化为热能的速速率\n",
    "$$\\epsilon= c_D \\frac{k^{\\frac{3}{2}}}{l}$$\n",
    "$c_D$：经验常数"
   ]
  },
  {
   "cell_type": "markdown",
   "metadata": {},
   "source": [
    "## Derivation of Mass Conservation Equation\n",
    "However, if the velocity of a fluid is low compared to the speed of sound, the change in its density is extremely small, so the density can be treated as constant. Fluids of this kind are known as **incompressible fluids**(不可压缩流体)"
   ]
  },
  {
   "cell_type": "markdown",
   "metadata": {},
   "source": [
    "## ALE方法\n",
    "Arbitrary Lagrangian Eulerian  \n",
    "[ALE方法详解-新浪博客](http://blog.sina.com.cn/s/blog_68d0921b0102vdjf.html)<br>\n",
    "[ALE-百科](https://baike.baidu.com/item/ALE%E6%96%B9%E6%B3%95/9168531)\n",
    "- 拉了朗日描述：网格节点固定在物质质点上并随之运动\n",
    " - 大变形时网格纠缠\n",
    "- 欧拉描述：网格节点空间位置固定\n",
    " - 边界处理困难\n",
    " - 相对运动处理困难\n",
    "- **ALE方法**：网格空间位置不固定，也不随质点运动，而是相对坐标系作任意运动"
   ]
  },
  {
   "cell_type": "markdown",
   "metadata": {
    "collapsed": true
   },
   "source": [
    "# Boundary Condition"
   ]
  },
  {
   "cell_type": "markdown",
   "metadata": {},
   "source": [
    "## Inflow and outflow boundary\n",
    "### Fixed total pressure\n",
    "例：气流通过一个开口的Box,已知流速和环境静压<br>\n",
    "入口边界条件：设置入口为固定总压$P_0=P+\\frac{1}{2}\\rho v^2$<br>\n",
    "出口边界条件：出口也可固定总压，一般除非有回流，否则出口都是固定静压"
   ]
  },
  {
   "cell_type": "code",
   "execution_count": null,
   "metadata": {
    "collapsed": true
   },
   "outputs": [],
   "source": []
  }
 ],
 "metadata": {
  "kernelspec": {
   "display_name": "Python 3",
   "language": "python",
   "name": "python3"
  },
  "language_info": {
   "codemirror_mode": {
    "name": "ipython",
    "version": 3
   },
   "file_extension": ".py",
   "mimetype": "text/x-python",
   "name": "python",
   "nbconvert_exporter": "python",
   "pygments_lexer": "ipython3",
   "version": "3.5.3"
  },
  "toc": {
   "nav_menu": {},
   "number_sections": true,
   "sideBar": true,
   "skip_h1_title": false,
   "toc_cell": true,
   "toc_position": {
    "height": "642px",
    "left": "0px",
    "right": "1382px",
    "top": "107px",
    "width": "218px"
   },
   "toc_section_display": "block",
   "toc_window_display": true
  }
 },
 "nbformat": 4,
 "nbformat_minor": 2
}
