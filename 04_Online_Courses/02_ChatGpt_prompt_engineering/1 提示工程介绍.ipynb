{
 "cells": [
  {
   "cell_type": "markdown",
   "id": "bfdb2dc1-d6ac-4f94-b32d-bfb9bac9cfb6",
   "metadata": {},
   "source": [
    "# ChatGpt提示工程\n",
    "网易课程链接：[ChatGpt提升工程](https://open.163.com/newview/movie/free?pid=LI35K8001&mid=OI35KCUJ9)\n",
    "\n",
    "DeepLearning课程链接(包含代码)：[ChatGPT Prompt Engineering for Developers](https://learn.deeplearning.ai/chatgpt-prompt-eng/lesson/2/guidelines)"
   ]
  },
  {
   "cell_type": "code",
   "execution_count": null,
   "id": "3b962857-c610-4e28-a425-147144ef4d63",
   "metadata": {},
   "outputs": [],
   "source": []
  }
 ],
 "metadata": {
  "kernelspec": {
   "display_name": "Python 3 (ipykernel)",
   "language": "python",
   "name": "python3"
  },
  "language_info": {
   "codemirror_mode": {
    "name": "ipython",
    "version": 3
   },
   "file_extension": ".py",
   "mimetype": "text/x-python",
   "name": "python",
   "nbconvert_exporter": "python",
   "pygments_lexer": "ipython3",
   "version": "3.10.10"
  }
 },
 "nbformat": 4,
 "nbformat_minor": 5
}
