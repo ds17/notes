{
 "cells": [
  {
   "cell_type": "markdown",
   "id": "c9d34712-078d-46cf-89ae-eb0871676d46",
   "metadata": {},
   "source": [
    "# Transforming\n",
    "\n",
    "In this notebook, we will explore how to use Large Language Models for text transformation tasks such as language translation, spelling and grammar checking, tone adjustment, and format conversion.\n",
    "- 翻译\n",
    "- 拼写检查\n",
    "- 语法检查\n",
    "- 润色/语气调整\n",
    "- 格式化输出：将HTML转换为json\n",
    "## Setup"
   ]
  },
  {
   "cell_type": "code",
   "execution_count": 1,
   "id": "38185330-ac5b-418c-a5c0-197794390a46",
   "metadata": {
    "tags": []
   },
   "outputs": [],
   "source": [
    "import openai\n",
    "import os\n",
    "import time\n",
    "openai.api_key = os.environ.get('OPENAI_API_KEY')"
   ]
  },
  {
   "cell_type": "code",
   "execution_count": 2,
   "id": "52723815-21bd-4b95-8a22-a36203474c1a",
   "metadata": {
    "tags": []
   },
   "outputs": [],
   "source": [
    "def get_completion(prompt, model=\"gpt-3.5-turbo\"):\n",
    "    messages = [{'role': \"user\", \"content\": prompt}]\n",
    "    response = openai.ChatCompletion.create(model=model,\n",
    "                                            messages=messages, temperature=0)\n",
    "    return response.choices[0].message[\"content\"]"
   ]
  },
  {
   "cell_type": "markdown",
   "id": "cab0a910-214f-4c2f-8606-c5c04ba3427d",
   "metadata": {},
   "source": [
    "## Translation\n",
    "\n",
    "ChatGPT is trained with sources in many languages. This gives the model the ability to do translation. Here are some examples of how to use this capability."
   ]
  },
  {
   "cell_type": "code",
   "execution_count": 4,
   "id": "a0a5a61a-339e-44ab-93e8-742adf517f03",
   "metadata": {
    "tags": []
   },
   "outputs": [
    {
     "name": "stdout",
     "output_type": "stream",
     "text": [
      "Hola, me gustaría ordenar una licuadora.\n"
     ]
    }
   ],
   "source": [
    "prompt = f\"\"\"\n",
    "Translate the following english text to spanish:\\\n",
    "'''Hi, I would like to order a blender'''\n",
    "\"\"\"\n",
    "response = get_completion(prompt)\n",
    "print(response)"
   ]
  },
  {
   "cell_type": "code",
   "execution_count": 8,
   "id": "7e0b754b-e10e-47b1-9f96-f15a5cc5cb3d",
   "metadata": {
    "tags": []
   },
   "outputs": [
    {
     "name": "stdout",
     "output_type": "stream",
     "text": [
      "French: ```Je veux commander un ballon de basket```\n",
      "Spanish: ```Quiero ordenar una pelota de baloncesto```\n",
      "English: ```I want to order a basketball```\n"
     ]
    }
   ],
   "source": [
    "prompt = f\"\"\"\n",
    "Translate the following  text to French and Spanish\n",
    "and English pirate: \\\n",
    "```I want to order a basketball```\n",
    "\"\"\"\n",
    "response = get_completion(prompt)\n",
    "print(response)"
   ]
  },
  {
   "cell_type": "code",
   "execution_count": 6,
   "id": "9d791c28-6480-4e6c-aff5-45eb869aee53",
   "metadata": {
    "tags": []
   },
   "outputs": [
    {
     "data": {
      "text/plain": [
       "'This sentence is in French. The translation to Chinese is:\\n\\n「这个路灯多少钱？」(Zhège lùdēng duōshǎo qián?)'"
      ]
     },
     "execution_count": 6,
     "metadata": {},
     "output_type": "execute_result"
    }
   ],
   "source": [
    "prompt = f\"\"\"\n",
    "Tell me which language this is and translate it to chinses:\n",
    "'''Combien coute le lampadaire'''\n",
    "\"\"\"\n",
    "get_completion(prompt)"
   ]
  },
  {
   "cell_type": "code",
   "execution_count": 9,
   "id": "9447081b-2738-4602-b49c-bb34deda5579",
   "metadata": {
    "tags": []
   },
   "outputs": [
    {
     "name": "stdout",
     "output_type": "stream",
     "text": [
      "Formal: 您想要订购一个枕头吗？\n",
      "Informal: 你想要订购一个枕头吗？\n"
     ]
    }
   ],
   "source": [
    "prompt = f\"\"\"\n",
    "Translate the following text to chinese in both the \\\n",
    "formal and informal forms: \n",
    "'Would you like to order a pillow?'\n",
    "\"\"\"\n",
    "response = get_completion(prompt)\n",
    "print(response)"
   ]
  },
  {
   "cell_type": "markdown",
   "id": "c6e602c4-8308-4b74-9b67-101594ef127f",
   "metadata": {},
   "source": [
    "### Universal Translator\n",
    "Imagine you are in charge of IT at a large multinational e-commerce company. Users are messaging you with IT issues in all their native languages. Your staff is from all over the world and speaks only their native languages. You need a universal translator!"
   ]
  },
  {
   "cell_type": "code",
   "execution_count": 10,
   "id": "0bff1154-f28e-430e-8a0e-5e882ed8c1e6",
   "metadata": {
    "tags": []
   },
   "outputs": [],
   "source": [
    "user_messages = [\n",
    "  \"La performance du système est plus lente que d'habitude.\",  # System performance is slower than normal         \n",
    "  \"Mi monitor tiene píxeles que no se iluminan.\",              # My monitor has pixels that are not lighting\n",
    "  \"Il mio mouse non funziona\",                                 # My mouse is not working\n",
    "  \"Mój klawisz Ctrl jest zepsuty\",                             # My keyboard has a broken control key\n",
    "  \"我的屏幕在闪烁\"                                               # My screen is flashing\n",
    "]"
   ]
  },
  {
   "cell_type": "code",
   "execution_count": 13,
   "id": "2f3ab0b9-143c-4b6a-9a4d-aa863588c896",
   "metadata": {
    "tags": []
   },
   "outputs": [
    {
     "name": "stdout",
     "output_type": "stream",
     "text": [
      "Original message (The language is French.): La performance du système est plus lente que d'habitude.\n",
      "The performance of the system is slower than usual.\n",
      "\n",
      "시스템의 성능이 평소보다 느립니다. \n",
      "\n",
      "Original message (The language is Spanish.): Mi monitor tiene píxeles que no se iluminan.\n",
      "English: \"My monitor has pixels that do not light up.\"\n",
      "\n",
      "Korean: \"내 모니터에는 밝아지지 않는 픽셀이 있습니다.\" (Nae moniteoeneun balkaji-ji anhneun piksel-i issseumnida.) \n",
      "\n",
      "Original message (The language is Italian.): Il mio mouse non funziona\n",
      "English: \"My mouse is not working.\"\n",
      "Korean: \"내 마우스가 작동하지 않습니다.\" \n",
      "\n",
      "Original message (The language is Polish.): Mój klawisz Ctrl jest zepsuty\n",
      "English: \"My Ctrl key is broken\"\n",
      "Korean: \"내 Ctrl 키가 고장 났어요\" \n",
      "\n",
      "Original message (The language is Chinese.): 我的屏幕在闪烁\n",
      "English: My screen is flickering.\n",
      "Korean: 내 화면이 깜박거립니다. \n",
      "\n"
     ]
    }
   ],
   "source": [
    "for issue in user_messages:\n",
    "    prompt = f\"Tell me what language this is: ```{issue}```\"\n",
    "    lang = get_completion(prompt)\n",
    "    print(f\"Original message ({lang}): {issue}\")\n",
    "    time.sleep(21)\n",
    "\n",
    "    prompt = f\"\"\"\n",
    "    Translate the following  text to English \\\n",
    "    and Korean: ```{issue}```\n",
    "    \"\"\"\n",
    "    response = get_completion(prompt)\n",
    "    print(response, \"\\n\")\n",
    "    time.sleep(21)"
   ]
  },
  {
   "cell_type": "markdown",
   "id": "ae5bc080-f05a-4481-bfd9-2dcbe57f7d16",
   "metadata": {},
   "source": [
    "## Tone Transformation\n",
    "Writing can vary based on the intended audience. ChatGPT can produce different tones.\n",
    "- 根据不同的受众改写文风\n",
    "- 修改语气"
   ]
  },
  {
   "cell_type": "code",
   "execution_count": 5,
   "id": "57557786-1f3f-4e49-82b3-422508e9863c",
   "metadata": {
    "tags": []
   },
   "outputs": [
    {
     "name": "stdout",
     "output_type": "stream",
     "text": [
      "尊敬的先生/女士，\n",
      "\n",
      "我是乔，希望您能查看一下这款落地灯的规格。\n",
      "\n",
      "谢谢！\n",
      "\n",
      "乔\n"
     ]
    }
   ],
   "source": [
    "prompt = f\"\"\"\n",
    "Translate the following from slang to a business letter in Chinses: \n",
    "'Dude, This is Joe, check out this spec on this standing lamp.'\n",
    "\"\"\"\n",
    "response = get_completion(prompt)\n",
    "print(response)"
   ]
  },
  {
   "cell_type": "markdown",
   "id": "7418caab-0680-4979-bdb5-86cd1d8e08d3",
   "metadata": {},
   "source": [
    "## Format Conversion\n",
    "ChatGPT can translate between formats. The prompt should describe the input and output formats.\n",
    "- 比如json to HTML or XML"
   ]
  },
  {
   "cell_type": "code",
   "execution_count": 9,
   "id": "5f268989-f0d1-4dde-9d1c-675f805e6131",
   "metadata": {
    "tags": []
   },
   "outputs": [],
   "source": [
    "from IPython.display import display, HTML, Markdown, Latex, JSON"
   ]
  },
  {
   "cell_type": "code",
   "execution_count": 8,
   "id": "638d73de-4e0f-43c2-ab55-aeb3111779a1",
   "metadata": {
    "tags": []
   },
   "outputs": [
    {
     "data": {
      "text/html": [
       "<!DOCTYPE html>\n",
       "<html>\n",
       "<head>\n",
       "<style>\n",
       "table {\n",
       "  font-family: arial, sans-serif;\n",
       "  border-collapse: collapse;\n",
       "  width: 100%;\n",
       "}\n",
       "\n",
       "td, th {\n",
       "  border: 1px solid #dddddd;\n",
       "  text-align: left;\n",
       "  padding: 8px;\n",
       "}\n",
       "\n",
       "tr:nth-child(even) {\n",
       "  background-color: #dddddd;\n",
       "}\n",
       "</style>\n",
       "</head>\n",
       "<body>\n",
       "\n",
       "<h2>Restaurant Employees</h2>\n",
       "\n",
       "<table>\n",
       "  <tr>\n",
       "    <th>Name</th>\n",
       "    <th>Email</th>\n",
       "  </tr>\n",
       "  <tr>\n",
       "    <td>Shyam</td>\n",
       "    <td>shyamjaiswal@gmail.com</td>\n",
       "  </tr>\n",
       "  <tr>\n",
       "    <td>Bob</td>\n",
       "    <td>bob32@gmail.com</td>\n",
       "  </tr>\n",
       "  <tr>\n",
       "    <td>Jai</td>\n",
       "    <td>jai87@gmail.com</td>\n",
       "  </tr>\n",
       "</table>\n",
       "\n",
       "</body>\n",
       "</html>"
      ],
      "text/plain": [
       "<IPython.core.display.HTML object>"
      ]
     },
     "metadata": {},
     "output_type": "display_data"
    }
   ],
   "source": [
    "data_json = { \"resturant employees\" :[ \n",
    "    {\"name\":\"Shyam\", \"email\":\"shyamjaiswal@gmail.com\"},\n",
    "    {\"name\":\"Bob\", \"email\":\"bob32@gmail.com\"},\n",
    "    {\"name\":\"Jai\", \"email\":\"jai87@gmail.com\"}\n",
    "]}\n",
    "\n",
    "prompt = f\"\"\"\n",
    "Translate the following python dictionary from JSON to an HTML \\\n",
    "table with column headers and title: {data_json}\n",
    "\"\"\"\n",
    "response = get_completion(prompt)\n",
    "# print(response)\n",
    "display(HTML(response))"
   ]
  },
  {
   "cell_type": "markdown",
   "id": "1725c698-9670-414b-9d68-e76c8c036a5e",
   "metadata": {},
   "source": [
    "## Spellcheck/Grammar check.\n",
    "\n",
    "Here are some examples of common grammar and spelling problems and the LLM's response. \n",
    "\n",
    "To signal to the LLM that you want it to proofread your text, you instruct the model to 'proofread' or 'proofread and correct'."
   ]
  },
  {
   "cell_type": "code",
   "execution_count": 11,
   "id": "d45c4379-c218-4920-b7f9-fc57b4909f49",
   "metadata": {
    "tags": []
   },
   "outputs": [
    {
     "name": "stdout",
     "output_type": "stream",
     "text": [
      "The girl with the black and white puppies has a ball.\n",
      "No errors found.\n",
      "No errors found.\n",
      "There goes my freedom. They're going to bring their suitcases.\n",
      "You're going to need your notebook.\n",
      "That medicine affects my ability to sleep. Have you heard of the butterfly effect?\n",
      "This phrase is to check chatGPT for spelling ability.\n"
     ]
    }
   ],
   "source": [
    "text = [ \n",
    "  \"The girl with the black and white puppies have a ball.\",  # The girl has a ball.\n",
    "  \"Yolanda has her notebook.\", # ok\n",
    "  \"Its going to be a long day. Does the car need it’s oil changed?\",  # Homonyms\n",
    "  \"Their goes my freedom. There going to bring they’re suitcases.\",  # Homonyms\n",
    "  \"Your going to need you’re notebook.\",  # Homonyms\n",
    "  \"That medicine effects my ability to sleep. Have you heard of the butterfly affect?\", # Homonyms\n",
    "  \"This phrase is to cherck chatGPT for speling abilitty\"  # spelling\n",
    "]\n",
    "for t in text:\n",
    "    prompt = f\"\"\"Proofread and correct the following text\n",
    "    and rewrite the corrected version. If you don't find\n",
    "    any errors, just say \"No errors found\". Don't use \n",
    "    any punctuation around the text:\n",
    "    ```{t}```\"\"\"\n",
    "    response = get_completion(prompt)\n",
    "    print(response)\n",
    "    time.sleep(20.01)"
   ]
  },
  {
   "cell_type": "code",
   "execution_count": 19,
   "id": "53ac4abf-288b-4ec9-a623-175219313a09",
   "metadata": {
    "tags": []
   },
   "outputs": [
    {
     "name": "stdout",
     "output_type": "stream",
     "text": [
      "Got this for my daughter for her birthday because she keeps taking mine from my room. Yes, adults also like pandas too. She takes it everywhere with her, and it's super soft and cute. However, one of the ears is a bit lower than the other, and I don't think that was designed to be asymmetrical. Additionally, it's a bit small for what I paid for it. I believe there might be other options that are bigger for the same price. On the positive side, it arrived a day earlier than expected, so I got to play with it myself before I gave it to my daughter.\n"
     ]
    }
   ],
   "source": [
    "text = f\"\"\"\n",
    "Got this for my daughter for her birthday cuz she keeps taking \\\n",
    "mine from my room.  Yes, adults also like pandas too.  She takes \\\n",
    "it everywhere with her, and it's super soft and cute.  One of the \\\n",
    "ears is a bit lower than the other, and I don't think that was \\\n",
    "designed to be asymmetrical. It's a bit small for what I paid for it \\\n",
    "though. I think there might be other options that are bigger for \\\n",
    "the same price.  It arrived a day earlier than expected, so I got \\\n",
    "to play with it myself before I gave it to my daughter.\n",
    "\"\"\"\n",
    "prompt = f\"proofread and correct this review: ```{text}```\"\n",
    "response = get_completion(prompt)\n",
    "print(response)"
   ]
  },
  {
   "cell_type": "code",
   "execution_count": 15,
   "id": "372b975c-c4d0-46db-8d70-5b3ae99ec236",
   "metadata": {
    "tags": []
   },
   "outputs": [],
   "source": [
    "from redlines import Redlines"
   ]
  },
  {
   "cell_type": "code",
   "execution_count": 20,
   "id": "2b3a2917-8c9c-49cb-8569-b6d3d5e67a73",
   "metadata": {
    "tags": []
   },
   "outputs": [
    {
     "data": {
      "text/markdown": [
       "Got this for my daughter for her birthday <span style=\"color:red;font-weight:700;text-decoration:line-through;\">cuz </span><span style=\"color:red;font-weight:700;\">because </span>she keeps taking mine from my <span style=\"color:red;font-weight:700;text-decoration:line-through;\">room.  </span><span style=\"color:red;font-weight:700;\">room. </span>Yes, adults also like pandas <span style=\"color:red;font-weight:700;text-decoration:line-through;\">too.  </span><span style=\"color:red;font-weight:700;\">too. </span>She takes it everywhere with her, and it's super soft and <span style=\"color:red;font-weight:700;text-decoration:line-through;\">cute.  One </span><span style=\"color:red;font-weight:700;\">cute. However, one </span>of the ears is a bit lower than the other, and I don't think that was designed to be asymmetrical. <span style=\"color:red;font-weight:700;text-decoration:line-through;\">It's </span><span style=\"color:red;font-weight:700;\">Additionally, it's </span>a bit small for what I paid for <span style=\"color:red;font-weight:700;text-decoration:line-through;\">it though. </span><span style=\"color:red;font-weight:700;\">it. </span>I <span style=\"color:red;font-weight:700;text-decoration:line-through;\">think </span><span style=\"color:red;font-weight:700;\">believe </span>there might be other options that are bigger for the same <span style=\"color:red;font-weight:700;text-decoration:line-through;\">price.  It </span><span style=\"color:red;font-weight:700;\">price. On the positive side, it </span>arrived a day earlier than expected, so I got to play with it myself before I gave it to my daughter."
      ],
      "text/plain": [
       "<IPython.core.display.Markdown object>"
      ]
     },
     "metadata": {},
     "output_type": "display_data"
    }
   ],
   "source": [
    "diff = Redlines(text, response) # 比较两个文本的差异，并返回一个Markdown，然后用<del>和<ins>标签来表示删除和插入的部分\n",
    "display(Markdown(diff.output_markdown))"
   ]
  },
  {
   "cell_type": "markdown",
   "id": "c21f4102-1e71-41af-8822-3d1ac3b84737",
   "metadata": {},
   "source": [
    "### 文献翻译并润色\n",
    "- 把文本翻译成英文\n",
    "- 确保翻译后英文符合APA style\n",
    "- 翻译面向的对象是一名研究者\n",
    "- 按照Markdown格式输出\n",
    "\n",
    "`prompt = f\"\"\"\n",
    "Translate the text into Chinese.\n",
    "Ensure the translation follows the APA style and targets to an medical reseacher.\n",
    "output in Markdown format.\n",
    "Text:'''{text}'''\n",
    "\"\"\"`"
   ]
  },
  {
   "cell_type": "code",
   "execution_count": 18,
   "id": "1040d071-8cd2-4614-a436-33bdbd0e71fa",
   "metadata": {
    "tags": []
   },
   "outputs": [
    {
     "data": {
      "text/markdown": [
       "**Review of a Panda Plush Toy: A Perfect Gift for All Ages**\n",
       "\n",
       "I purchased this delightful panda plush toy as a birthday gift for my daughter, who has a penchant for \"borrowing\" my belongings from my room. As an adult, I must admit that I too have fallen in love with this adorable creature. \n",
       "\n",
       "The first thing that struck me about this plush toy is its exceptional softness. It is an absolute pleasure to touch and hold, making it an irresistible companion for my daughter. She carries it with her everywhere she goes, and it never fails to bring a smile to her face.\n",
       "\n",
       "However, I did notice a minor flaw in the design. One of the ears appears to be slightly lower than the other, which I believe was not intended to be asymmetrical. While this does not detract from the overall charm of the toy, it is worth mentioning.\n",
       "\n",
       "In terms of size, I must admit that I expected a slightly larger toy considering its price. It would be beneficial for the manufacturer to offer larger options at the same price point, as this would provide customers with more choices.\n",
       "\n",
       "On a positive note, the delivery of the plush toy exceeded my expectations. It arrived a day earlier than anticipated, allowing me the opportunity to experience its softness and cuteness firsthand before presenting it to my daughter.\n",
       "\n",
       "In conclusion, despite a minor design flaw and the desire for a larger size option, this panda plush toy is undeniably a delightful gift for individuals of all ages. Its softness, cuteness, and universal appeal make it a must-have for any panda enthusiast."
      ],
      "text/plain": [
       "<IPython.core.display.Markdown object>"
      ]
     },
     "metadata": {},
     "output_type": "display_data"
    }
   ],
   "source": [
    "prompt = f\"\"\"\n",
    "proofread and correct this review. Make it more compelling. \n",
    "Ensure it follows APA style guide and targets an advanced reader. \n",
    "Output in markdown format.\n",
    "Text: ```{text}```\n",
    "\"\"\"\n",
    "response = get_completion(prompt)\n",
    "display(Markdown(response))"
   ]
  },
  {
   "cell_type": "code",
   "execution_count": 21,
   "id": "9dcf5a13-a181-486f-a75d-f5f86692eab1",
   "metadata": {
    "tags": []
   },
   "outputs": [],
   "source": [
    "text = f\"\"\"\n",
    "随着建筑经济全球化发展，工程项目复杂程度\n",
    "与日俱增。在传统交易模式中，项目各参与方之间\n",
    "缺乏充分的信任与沟通，项目作业流程衔接不紧，\n",
    "甚至为了私利转嫁风险，导致工程项目实施过程中\n",
    "出现变更索赔、工期延误、成本超支等一系列问题，\n",
    "因此，创新项目交付模式刻不容缓。\n",
    "\"\"\""
   ]
  },
  {
   "cell_type": "code",
   "execution_count": 22,
   "id": "f2d8b721-0f95-48ad-b6db-2c2518f7ae11",
   "metadata": {
    "tags": []
   },
   "outputs": [
    {
     "data": {
      "text/markdown": [
       "With the development of globalization in the construction industry, the complexity of engineering projects is increasing day by day. In the traditional transaction model, there is a lack of sufficient trust and communication among the various stakeholders, resulting in a loose connection of project operations. Furthermore, in order to transfer risks for personal gain, a series of problems such as change claims, delays in project completion, and cost overruns occur during the implementation of engineering projects. Therefore, it is imperative to innovate project delivery models."
      ],
      "text/plain": [
       "<IPython.core.display.Markdown object>"
      ]
     },
     "metadata": {},
     "output_type": "display_data"
    }
   ],
   "source": [
    "prompt = f\"\"\"\n",
    "translate the text to english. Make it more compelling. \n",
    "Ensure it follows APA style guide and targets an advanced reader. \n",
    "Output in markdown format.\n",
    "Text: ```{text}```\n",
    "\"\"\"\n",
    "response = get_completion(prompt)\n",
    "display(Markdown(response))"
   ]
  },
  {
   "cell_type": "code",
   "execution_count": 23,
   "id": "525efdc0-f1c5-40a2-b54a-52b09f9da02b",
   "metadata": {
    "tags": []
   },
   "outputs": [],
   "source": [
    "text = f\"\"\"\n",
    "Introduction: Two methods of non-invasive brain stimulation, transcranial magnetic stimulation (TMS) and\n",
    "transcranial direct current stimulation (tDCS), have demonstrable positive effects on cognition and can ameliorate\n",
    "neuropsychiatric symptoms such as depression. Less is known about the efficacy of these approaches in common\n",
    "neurodegenerative diseases. In this review, we evaluate the effects of TMS and tDCS upon cognitive and\n",
    "neuropsychiatric symptoms in the major dementias, including Alzheimer’s disease (AD), vascular dementia (VaD),\n",
    "dementia with Lewy bodies (DLB), Parkinson’s disease with dementia (PDD), and frontotemporal dementia (FTD),\n",
    "as well as the potential pre-dementia states of Mild Cognitive Impairment (MCI) and Parkinson’s disease (PD).\n",
    "Methods: PubMed (until 7 February 2014) and PsycINFO (from 1967 to January Week 3 2014) databases were\n",
    "searched in a semi-systematic manner in order to identify relevant treatment studies. A total of 762 studies were\n",
    "identified and 32 studies (18 in the dementias and 14 in PD populations) were included.\n",
    "Results: No studies were identified in patients with PDD, FTD or VaD. Of the dementias, 13 studies were conducted\n",
    "in patients with AD, one in DLB, and four in MCI. A total of 16 of the 18 studies showed improvements in at least\n",
    "one cognitive or neuropsychiatric outcome measure. Cognitive or neuropsychiatric improvements were observed in\n",
    "12 of the 14 studies conducted in patients with PD.\n",
    "Conclusions: Both TMS and tDCS may have potential as interventions for the treatment of symptoms associated\n",
    "with dementia and PD. These results are promising; however, available data were limited, particularly within VaD,\n",
    "PDD and FTD, and major challenges exist in order to maximise the efficacy and clinical utility of both techniques. In\n",
    "particular, stimulation parameters vary considerably between studies and are likely to subsequently impact upon\n",
    "treatment efficacy.\n",
    "\"\"\""
   ]
  },
  {
   "cell_type": "code",
   "execution_count": 25,
   "id": "a72ef48b-1435-48b4-9787-395e41b73cfd",
   "metadata": {
    "tags": []
   },
   "outputs": [
    {
     "data": {
      "text/markdown": [
       "# 摘要\n",
       "\n",
       "介绍：非侵入性脑部刺激的两种方法，经颅磁刺激（TMS）和经颅直流电刺激（tDCS），已经证明对认知有积极的影响，并且可以改善抑郁等神经精神症状。对于常见的神经退行性疾病，这些方法的疗效了解较少。在本综述中，我们评估了TMS和tDCS对主要痴呆症（包括阿尔茨海默病（AD）、血管性痴呆（VaD）、帕金森病伴痴呆（PDD）、前额颞叶痴呆（FTD）和帕金森病（PD）的潜在前痴呆状态轻度认知障碍（MCI）和帕金森病（PD））的认知和神经精神症状的影响。\n",
       "\n",
       "方法：在PubMed（截至2014年2月7日）和PsycINFO（从1967年到2014年1月第3周）数据库中进行半系统性搜索，以确定相关的治疗研究。共找到762项研究，其中包括18项痴呆症研究和14项PD人群研究。\n",
       "\n",
       "结果：未在PDD、FTD或VaD患者中找到任何研究。在痴呆症方面，有13项研究是在AD患者中进行的，1项是在DLB患者中进行的，还有4项是在MCI患者中进行的。在这18项研究中，有16项显示出至少一项认知或神经精神结果的改善。在14项针对PD患者的研究中，有12项观察到认知或神经精神改善。\n",
       "\n",
       "结论：TMS和tDCS可能作为治疗与痴呆和PD相关症状的干预手段具有潜力。这些结果是令人鼓舞的；然而，现有数据有限，特别是在VaD、PDD和FTD方面，同时在最大化这两种技术的疗效和临床效用方面存在重大挑战。特别是，刺激参数在研究之间存在相当大的差异，这可能会对治疗效果产生影响。\n",
       "\n",
       "**关键词：** 经颅磁刺激，经颅直流电刺激，痴呆，帕金森病，认知，神经精神症状"
      ],
      "text/plain": [
       "<IPython.core.display.Markdown object>"
      ]
     },
     "metadata": {},
     "output_type": "display_data"
    }
   ],
   "source": [
    "prompt = f\"\"\"\n",
    "Translate the text into Chinese.\n",
    "Ensure the translation follows the APA style and targets to an medical reseacher.\n",
    "output in Markdown format.\n",
    "Text:'''{text}'''\n",
    "\"\"\"\n",
    "response = get_completion(prompt)\n",
    "display(Markdown(response))"
   ]
  },
  {
   "cell_type": "code",
   "execution_count": null,
   "id": "2b273653-14d8-47fb-91e0-968e144a1646",
   "metadata": {},
   "outputs": [],
   "source": []
  }
 ],
 "metadata": {
  "kernelspec": {
   "display_name": "Python 3 (ipykernel)",
   "language": "python",
   "name": "python3"
  },
  "language_info": {
   "codemirror_mode": {
    "name": "ipython",
    "version": 3
   },
   "file_extension": ".py",
   "mimetype": "text/x-python",
   "name": "python",
   "nbconvert_exporter": "python",
   "pygments_lexer": "ipython3",
   "version": "3.10.10"
  }
 },
 "nbformat": 4,
 "nbformat_minor": 5
}
