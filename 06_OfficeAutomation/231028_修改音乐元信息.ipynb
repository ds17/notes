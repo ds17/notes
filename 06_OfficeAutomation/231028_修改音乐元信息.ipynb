{
 "cells": [
  {
   "cell_type": "code",
   "execution_count": 20,
   "id": "2281c5bf-ed6d-4672-b86d-872bb1e2c22a",
   "metadata": {
    "tags": []
   },
   "outputs": [],
   "source": [
    "from mutagen.asf import ASF\n",
    "import os"
   ]
  },
  {
   "cell_type": "code",
   "execution_count": 21,
   "id": "e5afd3ce-b0f2-4370-b5d1-2f60005a6e44",
   "metadata": {
    "tags": []
   },
   "outputs": [],
   "source": [
    "def list_files_in_directory(directory):\n",
    "    \"\"\"生成器，生成文件夹下所有文件的文件名及文件路径\"\"\"\n",
    "    for root, dirs, files in os.walk(directory):\n",
    "        for file in files:\n",
    "            file_path = os.path.join(root, file)\n",
    "            yield file, file_path"
   ]
  },
  {
   "cell_type": "code",
   "execution_count": 22,
   "id": "6c65bdfa-e33d-44c9-9b4f-b454983a38b0",
   "metadata": {
    "tags": []
   },
   "outputs": [],
   "source": [
    "# 修改wma文件的作者信息\n",
    "def edit_info(audio_file, author, title):\n",
    "    wma = ASF(audio_file)\n",
    "    wma['Author'] = [author]\n",
    "    wma['Title'] = [title]\n",
    "    wma.save()"
   ]
  },
  {
   "cell_type": "code",
   "execution_count": 23,
   "id": "6829922b-4adc-4dd1-b6b4-f25eff9a7665",
   "metadata": {
    "tags": []
   },
   "outputs": [],
   "source": [
    "folder_path = r'E:\\Music\\精选粤语热歌榜 300首\\修改歌手名称'\n",
    "file_generator = list_files_in_directory(folder_path)"
   ]
  },
  {
   "cell_type": "code",
   "execution_count": 24,
   "id": "1e62d1ac-5aef-4667-95d9-519c26137bcb",
   "metadata": {
    "tags": []
   },
   "outputs": [],
   "source": [
    "for file_name, file_path in file_generator:\n",
    "    author = file_name.split('-')[0][4:].replace(\"_\", \"/\")  # 获取文件名中的歌手信息，多个歌手用/分割\n",
    "    title = file_name.split('-')[1][:-4]  # 从文件名中获取歌曲名\n",
    "    edit_info(file_path, author, title)"
   ]
  }
 ],
 "metadata": {
  "kernelspec": {
   "display_name": "Python 3 (ipykernel)",
   "language": "python",
   "name": "python3"
  },
  "language_info": {
   "codemirror_mode": {
    "name": "ipython",
    "version": 3
   },
   "file_extension": ".py",
   "mimetype": "text/x-python",
   "name": "python",
   "nbconvert_exporter": "python",
   "pygments_lexer": "ipython3",
   "version": "3.10.10"
  }
 },
 "nbformat": 4,
 "nbformat_minor": 5
}
