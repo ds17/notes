{
 "cells": [
  {
   "cell_type": "markdown",
   "id": "2c9c27b0-5ea1-402b-aba4-1a512e68004f",
   "metadata": {},
   "source": [
    "# 模拟鼠标点击\n",
    "根据坐标模拟鼠标点击，实现办公自动化。\n",
    "### 目标：\n",
    "- 用浏览器自动打开一个网址\n",
    "- 点击鼠标定位\n",
    "- 模拟鼠标点击、模拟键盘操作\n",
    "- 判断运行状态\n",
    "- 获取运行结果\n",
    "### 需要用到的库\n",
    "- `pyautogui`：模拟鼠标点击，模拟键盘输入，获取屏幕截图\n",
    "- `cv2`：对比屏幕固定位置截图图片变化情况，判断运行状态\n",
    "- `shutil`：移动文件"
   ]
  },
  {
   "cell_type": "code",
   "execution_count": 21,
   "id": "a0ed8ea0-f773-4ef3-ac85-10bada8acd84",
   "metadata": {
    "tags": []
   },
   "outputs": [],
   "source": [
    "import webbrowser\n",
    "import os\n",
    "from datetime import datetime, timedelta\n",
    "import pyautogui\n",
    "import cv2\n",
    "import time\n",
    "import shutil"
   ]
  },
  {
   "cell_type": "markdown",
   "id": "debc02f4-d1de-4ed8-9557-d3300b4b8134",
   "metadata": {
    "tags": []
   },
   "source": [
    "## 打开浏览器并打开网页\n",
    "### 用默认浏览器打开"
   ]
  },
  {
   "cell_type": "code",
   "execution_count": 13,
   "id": "fc1c7d68-7308-4e4e-b55d-71e0c1833f97",
   "metadata": {
    "tags": []
   },
   "outputs": [
    {
     "data": {
      "text/plain": [
       "0"
      ]
     },
     "execution_count": 13,
     "metadata": {},
     "output_type": "execute_result"
    }
   ],
   "source": [
    "url = \"https://www.morningstar.cn/quickrank/default.aspx\"\n",
    "\n",
    "# 用默认浏览器打开\n",
    "os.system(f'start {url}')"
   ]
  },
  {
   "cell_type": "markdown",
   "id": "15a704f7-a6f6-443a-9082-7b52c9a5c381",
   "metadata": {},
   "source": [
    "### 用指定浏览器打开"
   ]
  },
  {
   "cell_type": "code",
   "execution_count": 16,
   "id": "1fceb2e1-e01e-42fb-a9b8-23b74be706c1",
   "metadata": {
    "tags": []
   },
   "outputs": [
    {
     "data": {
      "text/plain": [
       "True"
      ]
     },
     "execution_count": 16,
     "metadata": {},
     "output_type": "execute_result"
    }
   ],
   "source": [
    "# 方法一\n",
    "# 指定浏览器打开，打开失败，原因不知道\n",
    "# os.system(\"start chrome\" + url) #os.system(\"start msegde\" + url)\n",
    "\n",
    "# 方法二\n",
    "# 指定浏览器路径\n",
    "msegde_path = r'C:\\Program Files (x86)\\Microsoft\\Edge\\Application\\msedge.exe'\n",
    "\n",
    "# 使用指定浏览器打开网页\n",
    "# 注册并指定浏览器\n",
    "webbrowser.register('msedge', None, webbrowser.BackgroundBrowser(msegde_path))\n",
    "webbrowser.get('msedge').open(url)"
   ]
  },
  {
   "cell_type": "markdown",
   "id": "f7eb0b6a-e73b-404b-91df-d9ddff8f939e",
   "metadata": {},
   "source": [
    "## 日期处理\n",
    "输入一个文本`2023-06-23`日期，转换为日期类型，并返回一个间隔`n`的日期的字符串"
   ]
  },
  {
   "cell_type": "code",
   "execution_count": 20,
   "id": "15232376-d7f2-49b6-948f-677d1eb16189",
   "metadata": {
    "tags": []
   },
   "outputs": [],
   "source": [
    "def str_date_delta(date_str, delta_days=-1):\n",
    "    \"\"\"\n",
    "    输入一个格式为 2023-06-30 的日期字符串和时间间隔的天数，返回间隔天数的相同格式的字符串日期\n",
    "    \"\"\"\n",
    "    date_object = datetime.strptime(date_str, \"%Y-%m-%d\")\n",
    "    new_date = date_object + timedelta(days=delta_days)\n",
    "    return new_date.strftime(\"%Y-%m-%d\")"
   ]
  },
  {
   "cell_type": "markdown",
   "id": "ef269b8d-11e9-4853-b20f-f276670ad44a",
   "metadata": {},
   "source": [
    "## 模拟鼠标、键盘输入"
   ]
  },
  {
   "cell_type": "code",
   "execution_count": 3,
   "id": "21838676-7bfe-4a8b-8660-6fe22cadc7ad",
   "metadata": {},
   "outputs": [],
   "source": [
    "def click_screen(position=(0, 0)):\n",
    "    pyautogui.click(x=position[0], y=position[1])\n",
    "    # 每次点击之后休眠0.4秒，避免因为点击过快导致没有加载好\n",
    "    time.sleep(0.4)"
   ]
  },
  {
   "cell_type": "code",
   "execution_count": 12,
   "id": "3721e5c2-5a9a-473b-ac64-033838bf0f03",
   "metadata": {
    "tags": []
   },
   "outputs": [],
   "source": [
    "def press_backspace(n=14):\n",
    "    \"\"\"\n",
    "    按压删除键n次\n",
    "    \"\"\"\n",
    "    for _ in range(n):\n",
    "        pyautogui.press('backspace')\n",
    "        # 每按一次backspace要休眠0.5秒，否则按的太快是失效\n",
    "        time.sleep(0.5)"
   ]
  },
  {
   "cell_type": "markdown",
   "id": "1a089eaa-4bde-475a-b1ff-6fec1602b6a5",
   "metadata": {},
   "source": [
    "## 监控运行状态"
   ]
  },
  {
   "cell_type": "code",
   "execution_count": 8,
   "id": "20ae2cea-d80f-4a06-a210-4baf08732afe",
   "metadata": {
    "tags": []
   },
   "outputs": [],
   "source": [
    "def get_yunxing_status(yunxing_status_path=r\"F:\\GitHub\\notes\\06_OfficeAutomation\\yunxing_status.jpg\"):\n",
    "    \"\"\"\n",
    "    根据坐标截图，并将截图保存到本地，目的是监控页面某个区域的状态\n",
    "    \"\"\"\n",
    "    # 截图，左上角坐标，宽度，高度\n",
    "    region = (608, 198, 96, 30)\n",
    "    screenshot = pyautogui.screenshot(region=region)\n",
    "    screenshot.save(yunxing_status_path)"
   ]
  },
  {
   "cell_type": "code",
   "execution_count": 9,
   "id": "ea1d4d62-8c88-46ca-aed2-c4ef9da36f01",
   "metadata": {
    "tags": []
   },
   "outputs": [],
   "source": [
    "def img_compare(img1_path, img2_path):\n",
    "    \"\"\"\n",
    "    输入两张照片，计算巴氏距离，计算照片相关度\n",
    "    \"\"\"\n",
    "    img1 = cv2.imread(img1_path)\n",
    "    img2 = cv2.imread(img2_path)\n",
    "\n",
    "    gray1 = cv2.cvtColor(img1, cv2.COLOR_RGB2GRAY)\n",
    "    gray2 = cv2.cvtColor(img2, cv2.COLOR_RGB2GRAY)\n",
    "\n",
    "    hist1 = cv2.calcHist([gray1], [0], None, [256], [0, 256])\n",
    "    hist2 = cv2.calcHist([gray2], [0], None, [256], [0, 256])\n",
    "\n",
    "    # 巴氏距离值越小，相关度越高，最大值为1，最小值为0haod\n",
    "    similarity = 1 - cv2.compareHist(hist1, hist2, cv2.HISTCMP_BHATTACHARYYA)\n",
    "    return similarity"
   ]
  },
  {
   "cell_type": "code",
   "execution_count": 11,
   "id": "8835c07d-b1e8-414d-934e-caf335985d45",
   "metadata": {
    "tags": []
   },
   "outputs": [],
   "source": [
    "def is_action_done(standard_yunxing, yunxing_status_path=r\"F:\\GitHub\\notes\\06_OfficeAutomation\\yunxing_status.jpg\"):\n",
    "    \"\"\"\n",
    "    输入：目标状态的截图路径，实时状态截图的保存路径。\n",
    "    说明：先要根据坐标截一张目标状态的图片并保存\n",
    "    \"\"\"\n",
    "    get_yunxing_status(yunxing_status_path)\n",
    "    similarity = img_compare(yunxing_status_path, standard_yunxing)\n",
    "\n",
    "    # 删除实时运行状态的照片，因为没隔几秒会重新保存一个文件\n",
    "    os.remove(yunxing_status_path)\n",
    "\n",
    "    if similarity > 0.8:\n",
    "        return True\n",
    "    else:\n",
    "        return False"
   ]
  },
  {
   "cell_type": "code",
   "execution_count": 19,
   "id": "a6cd7a5c-9126-4a1c-90c6-5f70c5f4c5b2",
   "metadata": {
    "tags": []
   },
   "outputs": [],
   "source": [
    "def check_done(n=300, standard_yunxing=r\"F:\\GitHub\\notes\\06_OfficeAutomation\\standard_yunxing.jpg\"):\n",
    "    for i in range(n):\n",
    "        if is_action_done(standard_yunxing):\n",
    "            break\n",
    "        else:\n",
    "            # 每两秒\n",
    "            time.sleep(2)"
   ]
  },
  {
   "cell_type": "markdown",
   "id": "98d0809f-2f7e-4942-8d66-44d08e5a2691",
   "metadata": {},
   "source": [
    "## 根据关键词找文件名"
   ]
  },
  {
   "cell_type": "code",
   "execution_count": 13,
   "id": "71b82def-53ca-4816-b63e-44c788a7e7c9",
   "metadata": {
    "tags": []
   },
   "outputs": [],
   "source": [
    "def find_filse_with_keyword(folder_path, keyword):\n",
    "    \"\"\"\n",
    "    输入文件夹路径和关键词\n",
    "    返回最后一个包含关键词的文件路径\n",
    "    如果需要返回所有包含关键词的文件路径，就把result改为一个list\n",
    "    \"\"\"\n",
    "    result = \"\"\n",
    "    for root, dirs, files in os.walk(folder_path):\n",
    "        for file in files:\n",
    "            if keyword in file:\n",
    "                result = os.path.join(root, files)\n",
    "    return result"
   ]
  },
  {
   "cell_type": "markdown",
   "id": "67aa070f-5762-4bf7-bdbd-b83092805c93",
   "metadata": {},
   "source": [
    "## 获取当前鼠标坐标"
   ]
  },
  {
   "cell_type": "code",
   "execution_count": 17,
   "id": "e89637df-bb75-423d-9a25-9e38f68d9138",
   "metadata": {
    "tags": []
   },
   "outputs": [
    {
     "data": {
      "text/plain": [
       "Point(x=2436, y=664)"
      ]
     },
     "execution_count": 17,
     "metadata": {},
     "output_type": "execute_result"
    }
   ],
   "source": [
    "# 在jupyter中多个屏幕时，将鼠标悬停后用快捷键运营单元格，可以快速获取坐标位置\n",
    "current_mouse_position = pyautogui.position()\n",
    "current_mouse_position"
   ]
  },
  {
   "cell_type": "markdown",
   "id": "8b72f3d7-b896-4cd6-9ac6-67be1aa98e76",
   "metadata": {},
   "source": [
    "## 移动文件"
   ]
  },
  {
   "cell_type": "code",
   "execution_count": 22,
   "id": "0802116a-948d-40c8-a8ac-3189b675af05",
   "metadata": {
    "tags": []
   },
   "outputs": [],
   "source": [
    "def move_file(src_path, dst_path):\n",
    "    try:\n",
    "        shutil.move(src_path, dst_path)\n",
    "        print('文件移动成功')\n",
    "    except FileNotFoundError:\n",
    "        print(\"找不到源文件\")\n",
    "    except FileExistsError:\n",
    "        print(\"目标文件已存在\")"
   ]
  },
  {
   "cell_type": "markdown",
   "id": "c670031f-5be3-4a4b-b5ae-eadb0b14190f",
   "metadata": {},
   "source": [
    "## 执行运行"
   ]
  },
  {
   "cell_type": "code",
   "execution_count": 24,
   "id": "da60c31d-2e75-4e9c-9ecf-86cb705f6ab2",
   "metadata": {
    "tags": []
   },
   "outputs": [],
   "source": [
    "def query_data(positon, start_date, end_date, sleep_secs=3):\n",
    "    click_screen(positon)\n",
    "    click_screen(627, 530)  # 点击编辑框内\n",
    "    click_screen(656, 215)  # 点击运行\n",
    "\n",
    "    click_screen(1200, 380)  # 点击第一个输入框的尾部\n",
    "    press_backspace(12)  # 按压backspace12次\n",
    "    pyautogui.typewrite(start_date)\n",
    "\n",
    "    click_screen(1200, 431)  # 点击第二个输入框的尾部\n",
    "    press_backspace(12)  # 按压backspace12次\n",
    "    pyautogui.typewrite(end_date)\n",
    "    click_screen(1270, 538)  # 确定运行\n",
    "\n",
    "    pyautogui.move(627, 530)  # 移动到编辑框中\n",
    "    time.sleep(sleep_secs)"
   ]
  },
  {
   "cell_type": "code",
   "execution_count": null,
   "id": "b981b650-3f0b-4f1f-9e40-2e6771460f85",
   "metadata": {},
   "outputs": [],
   "source": []
  }
 ],
 "metadata": {
  "kernelspec": {
   "display_name": "Python 3 (ipykernel)",
   "language": "python",
   "name": "python3"
  },
  "language_info": {
   "codemirror_mode": {
    "name": "ipython",
    "version": 3
   },
   "file_extension": ".py",
   "mimetype": "text/x-python",
   "name": "python",
   "nbconvert_exporter": "python",
   "pygments_lexer": "ipython3",
   "version": "3.10.10"
  },
  "toc-autonumbering": true
 },
 "nbformat": 4,
 "nbformat_minor": 5
}
