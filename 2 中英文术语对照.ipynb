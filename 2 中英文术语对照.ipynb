{
 "cells": [
  {
   "cell_type": "markdown",
   "metadata": {},
   "source": [
    "<font size=6 color=\"blue\"> **术语中英文对照表**"
   ]
  },
  {
   "cell_type": "markdown",
   "metadata": {},
   "source": [
    "英文|中文\n",
    ":--|:--|\n",
    "pattern|模式\n",
    "list comprehension|列表推倒式\n",
    "collaborative filtering|协作型过滤\n",
    "dendrogram|树状图"
   ]
  },
  {
   "cell_type": "markdown",
   "metadata": {
    "collapsed": true
   },
   "source": [
    "# 数据分析"
   ]
  },
  {
   "cell_type": "markdown",
   "metadata": {},
   "source": [
    "## 聚类\n",
    "英文|中文\n",
    ":--|:--|\n",
    "dendrogram|树状图\n",
    "closeness|紧密度"
   ]
  },
  {
   "cell_type": "markdown",
   "metadata": {
    "collapsed": true
   },
   "source": [
    "# 机器学习"
   ]
  },
  {
   "cell_type": "markdown",
   "metadata": {},
   "source": [
    "英文|中文|参考\n",
    ":--|:--|:--|\n",
    "Precision|精确率\n",
    "Recall|查全率|[如何解释召回率与准确率？-知乎](https://www.zhihu.com/question/19645541/answer/91694636)<br>[机器学习：查准率(Precision)和查全率(Recall)-CSDN](https://blog.csdn.net/Zhang_hongchao/article/details/75127138)\n",
    "orthogonalization|正交化\n"
   ]
  }
 ],
 "metadata": {
  "kernelspec": {
   "display_name": "Python 3",
   "language": "python",
   "name": "python3"
  },
  "language_info": {
   "codemirror_mode": {
    "name": "ipython",
    "version": 3
   },
   "file_extension": ".py",
   "mimetype": "text/x-python",
   "name": "python",
   "nbconvert_exporter": "python",
   "pygments_lexer": "ipython3",
   "version": "3.5.3"
  },
  "toc": {
   "nav_menu": {},
   "number_sections": false,
   "sideBar": true,
   "skip_h1_title": false,
   "toc_cell": false,
   "toc_position": {},
   "toc_section_display": "block",
   "toc_window_display": true
  }
 },
 "nbformat": 4,
 "nbformat_minor": 2
}
