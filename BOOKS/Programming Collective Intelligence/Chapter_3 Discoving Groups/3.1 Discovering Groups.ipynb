{
 "cells": [
  {
   "cell_type": "markdown",
   "metadata": {
    "toc": "true"
   },
   "source": [
    " # Table of Contents\n",
    "<div class=\"toc\" style=\"margin-top: 1em;\"><ul class=\"toc-item\" id=\"toc-level0\"><li><span><a href=\"http://localhost:8889/notebooks/notes/BOOKS/Programming%20Collective%20Intelligence/Chapter_3%20Discoving%20Groups/3.1%20Discovering%20Groups.ipynb#Hirearchial-Clustering\" data-toc-modified-id=\"Hirearchial-Clustering-1\"><span class=\"toc-item-num\">1&nbsp;&nbsp;</span>Hirearchial Clustering</a></span><ul class=\"toc-item\"><li><span><a href=\"http://localhost:8889/notebooks/notes/BOOKS/Programming%20Collective%20Intelligence/Chapter_3%20Discoving%20Groups/3.1%20Discovering%20Groups.ipynb#分级\" data-toc-modified-id=\"分级-1.1\"><span class=\"toc-item-num\">1.1&nbsp;&nbsp;</span>分级</a></span></li><li><span><a href=\"http://localhost:8889/notebooks/notes/BOOKS/Programming%20Collective%20Intelligence/Chapter_3%20Discoving%20Groups/3.1%20Discovering%20Groups.ipynb#绘制树状图\" data-toc-modified-id=\"绘制树状图-1.2\"><span class=\"toc-item-num\">1.2&nbsp;&nbsp;</span>绘制树状图</a></span></li><li><span><a href=\"http://localhost:8889/notebooks/notes/BOOKS/Programming%20Collective%20Intelligence/Chapter_3%20Discoving%20Groups/3.1%20Discovering%20Groups.ipynb#列聚类\" data-toc-modified-id=\"列聚类-1.3\"><span class=\"toc-item-num\">1.3&nbsp;&nbsp;</span>列聚类</a></span></li></ul></li><li><span><a href=\"http://localhost:8889/notebooks/notes/BOOKS/Programming%20Collective%20Intelligence/Chapter_3%20Discoving%20Groups/3.1%20Discovering%20Groups.ipynb#K-Means-Clustering\" data-toc-modified-id=\"K-Means-Clustering-2\"><span class=\"toc-item-num\">2&nbsp;&nbsp;</span>K-Means Clustering</a></span></li><li><span><a href=\"http://localhost:8889/notebooks/notes/BOOKS/Programming%20Collective%20Intelligence/Chapter_3%20Discoving%20Groups/3.1%20Discovering%20Groups.ipynb#Clusters-of-Prefernce\" data-toc-modified-id=\"Clusters-of-Prefernce-3\"><span class=\"toc-item-num\">3&nbsp;&nbsp;</span>Clusters of Prefernce</a></span></li><li><span><a href=\"http://localhost:8889/notebooks/notes/BOOKS/Programming%20Collective%20Intelligence/Chapter_3%20Discoving%20Groups/3.1%20Discovering%20Groups.ipynb#Viewing-Data-in-2D\" data-toc-modified-id=\"Viewing-Data-in-2D-4\"><span class=\"toc-item-num\">4&nbsp;&nbsp;</span>Viewing Data in 2D</a></span></li></ul></div>"
   ]
  },
  {
   "cell_type": "markdown",
   "metadata": {},
   "source": [
    "<font size=6.5 color='blue'>Discovering Groups</font>"
   ]
  },
  {
   "cell_type": "code",
   "execution_count": 2,
   "metadata": {
    "collapsed": true,
    "scrolled": true
   },
   "outputs": [],
   "source": [
    "from IPython.core.interactiveshell import InteractiveShell\n",
    "InteractiveShell.ast_node_interactivity = \"all\""
   ]
  },
  {
   "cell_type": "code",
   "execution_count": 3,
   "metadata": {
    "collapsed": true
   },
   "outputs": [],
   "source": [
    "import pandas as pd\n",
    "import numpy as np"
   ]
  },
  {
   "cell_type": "code",
   "execution_count": 4,
   "metadata": {
    "collapsed": true
   },
   "outputs": [],
   "source": [
    "blogdata=pd.read_table('blogdata.txt')"
   ]
  },
  {
   "cell_type": "markdown",
   "metadata": {},
   "source": [
    "# Hirearchial Clustering\n",
    "分级聚类\n",
    "\n",
    "## 分级\n",
    "- 定义一个类，缓存各行必要的信息\n",
    "- 嵌套结构，来进行聚类\n",
    "- 递归搜索，打印结果"
   ]
  },
  {
   "cell_type": "markdown",
   "metadata": {},
   "source": [
    "读入数据"
   ]
  },
  {
   "cell_type": "code",
   "execution_count": 94,
   "metadata": {},
   "outputs": [],
   "source": [
    "def readfile(filename):\n",
    "    file = open(filename, 'r')\n",
    "    lines = [line for line in file]\n",
    "\n",
    "    colnames = lines[0].strip().split('\\t')[1:]\n",
    "    rownames = []\n",
    "    data = []\n",
    "    for line in lines[1:]:\n",
    "        p = line.strip().split('\\t')\n",
    "        rownames.append(p[0])\n",
    "        data.append([float(x) for x in p[1:]])\n",
    "    return rownames, colnames, data\n",
    "\n",
    "\n",
    "blognames, words, data = readfile('blogdata.txt')"
   ]
  },
  {
   "cell_type": "markdown",
   "metadata": {},
   "source": [
    "**紧密度计算**\n",
    "- `1-pearsonr`"
   ]
  },
  {
   "cell_type": "code",
   "execution_count": 61,
   "metadata": {
    "collapsed": true
   },
   "outputs": [],
   "source": [
    "from math import sqrt\n",
    "def pearson(v1,v2):\n",
    "    sum1=sum(v1)\n",
    "    sum2=sum(v2)\n",
    "\n",
    "    # Sums of the squares\n",
    "    sum1Sq=sum([pow(v,2) for v in v1])\n",
    "    sum2Sq=sum([pow(v,2) for v in v2])\t\n",
    "\n",
    "    # Sum of the products\n",
    "    pSum=sum([v1[i]*v2[i] for i in range(len(v1))])\n",
    "\n",
    "    # Calculate r (Pearson score)\n",
    "    num=pSum-(sum1*sum2/len(v1))\n",
    "    den=sqrt((sum1Sq-pow(sum1,2)/len(v1))*(sum2Sq-pow(sum2,2)/len(v1)))\n",
    "    if den==0: return 0\n",
    "\n",
    "    return 1.0-num/den\n",
    "\n",
    "# from scipy.stats import pearsonr\n",
    "# def pearson(v1,v2):\n",
    "#     r,p_value = pearsonr(v1,v2)\n",
    "#     if p_value==1: r=0\n",
    "#     return 1.0 - r"
   ]
  },
  {
   "cell_type": "code",
   "execution_count": 107,
   "metadata": {
    "collapsed": true
   },
   "outputs": [],
   "source": [
    "class bicluster:\n",
    "    def __init__(self,vec,left=None,right=None,distance=0.0, i_d=None):\n",
    "        self.left=left\n",
    "        self.right=right\n",
    "        self.vec=vec\n",
    "        self.i_d=i_d\n",
    "        self.distance = distance"
   ]
  },
  {
   "cell_type": "code",
   "execution_count": 108,
   "metadata": {
    "collapsed": true
   },
   "outputs": [],
   "source": [
    "def hcluster(rows, distance=pearson):\n",
    "    distances = {}\n",
    "    currentclustid = -1\n",
    "\n",
    "    clust = [bicluster(rows[i], i_d=i) for i in range(len(rows))]\n",
    "\n",
    "    while len(clust) > 1:\n",
    "        lowestpair = (0, 1)\n",
    "        closest = distance(clust[0].vec, clust[1].vec)\n",
    "\n",
    "        for i in range(len(clust)):\n",
    "            for j in range(i + 1, len(clust)):\n",
    "                if (clust[i].i_d, clust[j].i_d) not in distances:\n",
    "                    distances[(clust[i].i_d, clust[j].i_d)] = distance(\n",
    "                        clust[i].vec, clust[j].vec)\n",
    "                d = distances[(clust[i].i_d, clust[j].i_d)]\n",
    "\n",
    "                if d < closest:\n",
    "                    closest = d\n",
    "                    lowestpair = (i, j)\n",
    "        mergevec = [\n",
    "            (clust[lowestpair[0]].vec[i] + clust[lowestpair[1]].vec[i]) / 2.0\n",
    "            for i in range(len(clust[0].vec))\n",
    "        ]\n",
    "\n",
    "        newcluster = bicluster(\n",
    "            mergevec,\n",
    "            left=clust[lowestpair[0]],\n",
    "            right=clust[lowestpair[1]],\n",
    "            distance=closest,\n",
    "            i_d=currentclustid)\n",
    "        #构建立新的 bicluster 对象，并将上级两个 bicluster 元素写入 left/right属性\n",
    "\n",
    "        currentclustid -= 1\n",
    "        del clust[lowestpair[1]]  #先删除大序号，再删除小序号，否则序号会乱\n",
    "        del clust[lowestpair[0]]\n",
    "        clust.append(newcluster)  #i_d为负数，且放在clust最后\n",
    "\n",
    "    return clust[0], distances"
   ]
  },
  {
   "cell_type": "code",
   "execution_count": 64,
   "metadata": {},
   "outputs": [],
   "source": [
    "top_clust,distances = hcluster(data)"
   ]
  },
  {
   "cell_type": "code",
   "execution_count": 65,
   "metadata": {},
   "outputs": [],
   "source": [
    "distances = [(distance, pair) for (pair, distance) in distances.items()]\n",
    "distances.sort()"
   ]
  },
  {
   "cell_type": "code",
   "execution_count": 66,
   "metadata": {
    "collapsed": true
   },
   "outputs": [],
   "source": [
    "def printdis(clust):\n",
    "    if clust.distance !=0:\n",
    "        print(clust.distance) \n",
    "    if clust.left!=None: printdis(clust.left)\n",
    "    if clust.right!=None: printdis(clust.right)\n",
    "        \n",
    "# printdis(top_clust)"
   ]
  },
  {
   "cell_type": "code",
   "execution_count": 67,
   "metadata": {
    "collapsed": true
   },
   "outputs": [],
   "source": [
    "def printclust(clust, labels=None, n=0):\n",
    "    for i in range(n):\n",
    "        print(' ', end='')\n",
    "    if clust.i_d < 0:\n",
    "        print('-')\n",
    "    else:\n",
    "        if labels == None: print(clust.i_d)\n",
    "        else: print(labels[clust.i_d])\n",
    "\n",
    "    #递归搜索\n",
    "    if clust.left != None: printclust(clust.left, labels=labels, n=n + 1)\n",
    "    if clust.right != None: printclust(clust.right, labels=labels, n=n + 1)"
   ]
  },
  {
   "cell_type": "code",
   "execution_count": 68,
   "metadata": {
    "collapsed": true
   },
   "outputs": [],
   "source": [
    "# printclust(top_clust, labels=blognames)"
   ]
  },
  {
   "cell_type": "markdown",
   "metadata": {
    "collapsed": true
   },
   "source": [
    "## 绘制树状图"
   ]
  },
  {
   "cell_type": "code",
   "execution_count": 69,
   "metadata": {
    "collapsed": true
   },
   "outputs": [],
   "source": [
    "def gethight(clust):\n",
    "    if clust.left==None and clust.right==None: return 1\n",
    "    \n",
    "    return gethight(clust.left) + gethight(clust.right)\n",
    "\n",
    "def getdepth(clust):\n",
    "    if clust.left==None and clust.right==None: return 0\n",
    "    \n",
    "    return max(getdepth(clust.left), getdepth(clust.right)) + clust.distance"
   ]
  },
  {
   "cell_type": "code",
   "execution_count": 70,
   "metadata": {
    "collapsed": true
   },
   "outputs": [],
   "source": [
    "from PIL import Image, ImageDraw"
   ]
  },
  {
   "cell_type": "code",
   "execution_count": 16,
   "metadata": {
    "collapsed": true
   },
   "outputs": [],
   "source": [
    "def drawdendrogram(clust, labels, jpeg='clusters.jpg'):\n",
    "    h = gethight(clust)*20\n",
    "    w = 1200\n",
    "    depth = getdepth(clust)\n",
    "    \n",
    "    scaling = float(w-150)/depth     #w-150：留出两边的间隙；可用宽度/depth=放大系数\n",
    "    \n",
    "    img= Image.new('RGB',(w,h),(255,255,255))\n",
    "    draw= ImageDraw.Draw(img)\n",
    "    \n",
    "    draw.line((0,h/2,10,h/2),fill=(255,0,0))\n",
    "    \n",
    "    drawnode(draw,clust,10,(h/2),scaling,labels)\n",
    "    img.save(jpeg,'JPEG')\n",
    "\n",
    "def drawnode(draw,clust,x,y,scaling,labels):\n",
    "    if clust.i_d<0:\n",
    "        h1=gethight(clust.left) *20\n",
    "        h2 = gethight(clust.right) * 20\n",
    "        top = y-(h1+h2)/2        #坐标？？\n",
    "        bottom = y+ (h2+h1)/2    #坐标？？\n",
    "        \n",
    "        l1=clust.distance * scaling\n",
    "        \n",
    "        draw.line((x,top+h1/2,x,bottom-h2/2),fill=(255,0,0))\n",
    "        \n",
    "        draw.line((x,top+h1/2,x+l1,top+h1/2),fill=(255,0,0))          #坐标？？\n",
    "        draw.line((x,bottom-h2/2,x+l1,bottom-h2/2),fill=(255,0,0))    #坐标？？\n",
    "        \n",
    "        drawnode(draw,clust.left,x+l1,top+h1/2,scaling,labels)\n",
    "        drawnode(draw,clust.right,x+l1,bottom-h2/2,scaling,labels)\n",
    "        \n",
    "    else:\n",
    "        draw.text((x+5,y-7),labels[clust.i_d],(0,0,0))"
   ]
  },
  {
   "cell_type": "code",
   "execution_count": 17,
   "metadata": {
    "collapsed": true,
    "scrolled": true
   },
   "outputs": [],
   "source": [
    "drawdendrogram(top_clust,blognames,jpeg=\"blogclust.jpg\")"
   ]
  },
  {
   "cell_type": "code",
   "execution_count": 18,
   "metadata": {
    "collapsed": true
   },
   "outputs": [],
   "source": [
    "img =Image.new('RGB',(128,128),(250,244,234))\n",
    "draw= ImageDraw.Draw(img)\n",
    "draw.line((0,0,30,60),fill=(255,0,0))\n",
    "draw.text((0,0),'(0,0)',(0,0,0,))\n",
    "draw.text((30,60),'(x=30,y=60)',(0,0,0,))\n",
    "img.save('zeropoint.jpg','JPEG')"
   ]
  },
  {
   "cell_type": "markdown",
   "metadata": {},
   "source": [
    "**`Image`对象原点**\n",
    "- 位置：左上角\n",
    "- `y`：向下增大\n",
    "- `x`：向右增大![zeropoint](zeropoint.jpg)"
   ]
  },
  {
   "cell_type": "markdown",
   "metadata": {},
   "source": [
    "## 列聚类\n",
    "将原来的数据进行转置后即可利用原来的函数对列进行聚类"
   ]
  },
  {
   "cell_type": "code",
   "execution_count": 19,
   "metadata": {
    "collapsed": true
   },
   "outputs": [],
   "source": [
    "def rotatematrix(data):\n",
    "    rdata=[]\n",
    "    row=[]\n",
    "    for j in range(len(data[0])):\n",
    "        row=[data[i][j] for i in range(len(data))]\n",
    "        rdata.append(row)\n",
    "    return rdata"
   ]
  },
  {
   "cell_type": "code",
   "execution_count": 20,
   "metadata": {
    "collapsed": true
   },
   "outputs": [],
   "source": [
    "rdata=rotatematrix(data)"
   ]
  },
  {
   "cell_type": "code",
   "execution_count": 21,
   "metadata": {
    "collapsed": true
   },
   "outputs": [],
   "source": [
    "wordclust,word_distances=hcluster(rdata)"
   ]
  },
  {
   "cell_type": "code",
   "execution_count": 22,
   "metadata": {
    "collapsed": true
   },
   "outputs": [],
   "source": [
    "drawdendrogram(wordclust,labels=words,jpeg='wordclust.jpg')"
   ]
  },
  {
   "cell_type": "markdown",
   "metadata": {
    "collapsed": true,
    "variables": {
     "(len(rdata[0]),len(rdata))": "(99, 706)",
     "len(rdata)": "706",
     "len(rdata[0])": "99"
    }
   },
   "source": [
    "<font size=2, color='red'>**稀疏数据**</font><br>\n",
    "shape of rdata：{{(len(rdata[0]),len(rdata))}}\n",
    "<br>待聚类项目（单词）的数量({{len(rdata)}}) > 数据的数量({{len(rdata[0])}})，出现无意义聚类的可能性就增加"
   ]
  },
  {
   "cell_type": "markdown",
   "metadata": {},
   "source": [
    "# K-Means Clustering\n",
    "分组聚类"
   ]
  },
  {
   "cell_type": "code",
   "execution_count": 23,
   "metadata": {
    "collapsed": true
   },
   "outputs": [],
   "source": [
    "import random"
   ]
  },
  {
   "cell_type": "code",
   "execution_count": 88,
   "metadata": {},
   "outputs": [],
   "source": [
    "def kcluster(rows, distance=pearson, k=4, isprint=False):\n",
    "    #确定每一维度的最小值/最大值\n",
    "    ranges = [(min([row[i] for row in rows]), max([row[i] for row in rows]))\n",
    "              for i in range(len(rows[0]))]\n",
    "\n",
    "    clusters = [[random.random() * (ranges[i][1] - ranges[i][0] + ranges[i][0]) for i in range(len(ranges))] \n",
    "                for j in range(k)]\n",
    "    \n",
    "    lastmatches = None\n",
    "    for t in range(100): #最多迭代100次\n",
    "        if isprint: print('Iterarion %d' %t)\n",
    "        bestmatches = [[] for i in range(k)]\n",
    "        \n",
    "        for j in range(len(rows)):\n",
    "            row = rows[j]\n",
    "            bestmatch=0         #与cluster中的最近的点的index\n",
    "            \n",
    "            for i in range(k):\n",
    "                d = distance(clusters[i], row)\n",
    "                if d < distance(clusters[bestmatch], row): bestmatch=i\n",
    "            bestmatches[bestmatch].append(j)\n",
    "        \n",
    "        if bestmatches==lastmatches:break\n",
    "        lastmatches = bestmatches\n",
    "        \n",
    "        #更新clusters位置\n",
    "        for i in range(k):\n",
    "            avgs = [0.0] *len(rows[0])    #[1] * n：得到一个有n个1的列表，\n",
    "            for rowid in bestmatches[i]:\n",
    "                for m in range(len(rows[rowid])):\n",
    "                    avgs[m] += rows[rowid][m]\n",
    "            for j in range(len(avgs)):\n",
    "                if len(bestmatches[i])>0:\n",
    "                    avgs[j] /=len(bestmatches[i])\n",
    "\n",
    "            clusters[i]=avgs\n",
    "    return bestmatches"
   ]
  },
  {
   "cell_type": "code",
   "execution_count": 89,
   "metadata": {
    "collapsed": true
   },
   "outputs": [
    {
     "name": "stdout",
     "output_type": "stream",
     "text": [
      "Iterarion 0\n",
      "Iterarion 1\n",
      "Iterarion 2\n",
      "Iterarion 3\n",
      "Iterarion 4\n",
      "Iterarion 5\n"
     ]
    },
    {
     "data": {
      "text/plain": [
       "[[0,\n",
       "  1,\n",
       "  3,\n",
       "  6,\n",
       "  9,\n",
       "  10,\n",
       "  11,\n",
       "  14,\n",
       "  15,\n",
       "  18,\n",
       "  19,\n",
       "  20,\n",
       "  22,\n",
       "  26,\n",
       "  28,\n",
       "  29,\n",
       "  31,\n",
       "  33,\n",
       "  35,\n",
       "  37,\n",
       "  38,\n",
       "  39,\n",
       "  43,\n",
       "  47,\n",
       "  51,\n",
       "  57,\n",
       "  58,\n",
       "  61,\n",
       "  64,\n",
       "  70,\n",
       "  71,\n",
       "  72,\n",
       "  73,\n",
       "  74,\n",
       "  76,\n",
       "  77,\n",
       "  78,\n",
       "  82,\n",
       "  86,\n",
       "  87,\n",
       "  88,\n",
       "  89,\n",
       "  92,\n",
       "  93,\n",
       "  95,\n",
       "  96,\n",
       "  97,\n",
       "  98],\n",
       " [2,\n",
       "  7,\n",
       "  13,\n",
       "  16,\n",
       "  21,\n",
       "  23,\n",
       "  24,\n",
       "  34,\n",
       "  36,\n",
       "  40,\n",
       "  49,\n",
       "  56,\n",
       "  62,\n",
       "  69,\n",
       "  79,\n",
       "  80,\n",
       "  84,\n",
       "  85,\n",
       "  91,\n",
       "  94],\n",
       " [4, 27, 41, 42, 45, 46, 81],\n",
       " [44, 55, 83],\n",
       " [8, 12, 25, 30, 32, 50, 52, 53, 54, 59, 63, 65, 67, 90],\n",
       " [5, 17, 48, 60, 66, 68, 75]]"
      ]
     },
     "execution_count": 89,
     "metadata": {},
     "output_type": "execute_result"
    }
   ],
   "source": [
    "kcluster(data,k=6,isprint=True)"
   ]
  },
  {
   "cell_type": "markdown",
   "metadata": {},
   "source": [
    "# Clusters of Prefernce\n",
    "针对偏好的聚类\n",
    "<font size=3> **距离度量标准**</font><br>\n",
    "**Tanimoto系数**\n",
    "- 交集占并集的比例\n",
    "- 数据集数据值为0/1：无/有"
   ]
  },
  {
   "cell_type": "code",
   "execution_count": 124,
   "metadata": {
    "collapsed": true
   },
   "outputs": [],
   "source": [
    "def tanimoto(v1,v2):\n",
    "    c1,c2,shr=0,0,0\n",
    "    \n",
    "    for i in range(len(v1)):\n",
    "        if v1[i] !=0: c1+=1\n",
    "        if v2[i] !=0: c2+=1\n",
    "        if v1[i] !=0 and v2[i] !=0: shr+=1\n",
    "        \n",
    "    return 1.0 - (float(shr)/(c1+c2-shr+0.00001))   #+0.00001，防止除以0报错，对人进行聚类时：两个爱好一样的人返回距离约等于0"
   ]
  },
  {
   "cell_type": "code",
   "execution_count": 115,
   "metadata": {},
   "outputs": [],
   "source": [
    "wants, people, data = readfile('zebo.txt')\n",
    "wants_clust, distances = hcluster(data,distance = tanimoto)\n",
    "drawdendrogram(wants_clust,wants,jpeg='wants_cluster.jpg')"
   ]
  },
  {
   "cell_type": "code",
   "execution_count": 122,
   "metadata": {},
   "outputs": [],
   "source": [
    "rdata=rotatematrix(data)\n",
    "people_clust, distances = hcluster(rdata,distance = tanimoto)\n",
    "drawdendrogram(people_clust,people,jpeg='people_cluster.jpg')"
   ]
  },
  {
   "cell_type": "markdown",
   "metadata": {},
   "source": [
    "# Viewing Data in 2D "
   ]
  },
  {
   "cell_type": "code",
   "execution_count": null,
   "metadata": {
    "collapsed": true
   },
   "outputs": [],
   "source": []
  }
 ],
 "metadata": {
  "kernelspec": {
   "display_name": "Python 3",
   "language": "python",
   "name": "python3"
  },
  "language_info": {
   "codemirror_mode": {
    "name": "ipython",
    "version": 3
   },
   "file_extension": ".py",
   "mimetype": "text/x-python",
   "name": "python",
   "nbconvert_exporter": "python",
   "pygments_lexer": "ipython3",
   "version": "3.5.3"
  },
  "toc": {
   "nav_menu": {},
   "number_sections": true,
   "sideBar": true,
   "skip_h1_title": false,
   "toc_cell": true,
   "toc_position": {},
   "toc_section_display": "block",
   "toc_window_display": true
  }
 },
 "nbformat": 4,
 "nbformat_minor": 2
}
