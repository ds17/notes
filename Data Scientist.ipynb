{
 "cells": [
  {
   "cell_type": "markdown",
   "metadata": {},
   "source": [
    "<font size=6 color='blue'>Data Scientist"
   ]
  },
  {
   "cell_type": "markdown",
   "metadata": {},
   "source": [
    "# 转行经验\n",
    "[汽车制造 → 数据分析-知乎](https://zhuanlan.zhihu.com/p/26429642)\n",
    "<br><br>Udacity- Data Analysis Nano Degree\n",
    "## 知识/积累\n",
    "1. 统计基础\n",
    " - 《深入浅出统计学》\n",
    "\n",
    "2. 分析理论\n",
    "3. Excel\n",
    " - 《谁说菜鸟不懂数据分析》\n",
    "\n",
    "4. SQL\n",
    " - 《SQL必知必会》\n",
    " \n",
    "5. R\n",
    "\n",
    "6. Python"
   ]
  },
  {
   "cell_type": "markdown",
   "metadata": {},
   "source": [
    "掌握程度\n",
    "![掌握程度](https://pic4.zhimg.com/v2-517d123e975179118239f6ed83b7d959_r.jpg)\n",
    "\n",
    "<br>数据分析岗位技能\n",
    "![](https://pic2.zhimg.com/80/v2-51a0ff7eb876a399b24e1a9b56f5488d_hd.jpg)"
   ]
  },
  {
   "cell_type": "markdown",
   "metadata": {},
   "source": [
    "## 项目经验\n",
    "Kaggle"
   ]
  },
  {
   "cell_type": "markdown",
   "metadata": {
    "collapsed": true
   },
   "source": [
    "# Online Lessons"
   ]
  },
  {
   "cell_type": "markdown",
   "metadata": {},
   "source": [
    "## Google Lesssons\n",
    "1. [机器学习速成课程](https://developers.google.com/machine-learning/crash-course/)\n",
    "2. [Data Engineering on Google Cloud Platform Specialization](https://www.coursera.org/specializations/gcp-data-machine-learning)\n",
    "3. [Machine Learning with TensorFlow on Google Cloud Platform Specializatio](https://www.coursera.org/specializations/machine-learning-tensorflow-gcp)"
   ]
  },
  {
   "cell_type": "markdown",
   "metadata": {
    "collapsed": true
   },
   "source": [
    "[data scientist workbench: IBM cognitive Class Lab](https://labs.cognitiveclass.ai/tools/my-data/)"
   ]
  },
  {
   "cell_type": "markdown",
   "metadata": {
    "collapsed": true
   },
   "source": [
    "# Kaggle\n",
    "[Kaggle入门，看这一篇就够了-知乎](https://zhuanlan.zhihu.com/p/25686876)"
   ]
  },
  {
   "cell_type": "markdown",
   "metadata": {
    "collapsed": true
   },
   "source": [
    "# 数据集\n",
    "1. [Kaggle数据集](https://www.kaggle.com/datasets)\n",
    "2. [微软 open data](https://msropendata.com/)\n",
    "3. [UCI Machine Learning Repository](http://archive.ics.uci.edu/ml/datasets.html)\n",
    "4. [美国政府公开数据 Data.gov](https://www.data.gov/)\n",
    "5. [其他](https://mp.weixin.qq.com/s?__biz=MjM5MDI1ODUyMA==&mid=2672941053&idx=2&sn=51e4c43c9df22f7c96c84c64107af336&chksm=bce2f3ca8b957adc131090f745ce8c7717060f300ce72649a28d06ce612cff38d7e09ee51a64&mpshare=1&scene=1&srcid=0619Sjp8LejSilVLFczBPzuz&pass_ticket=JEa8%2FJI6T2e0LvoMcJrmcIKKsWdapyOc%2FOvDrIkPCug%3D#rd)：金融/图像/自动驾驶/自然语言"
   ]
  },
  {
   "cell_type": "code",
   "execution_count": null,
   "metadata": {
    "collapsed": true
   },
   "outputs": [],
   "source": []
  }
 ],
 "metadata": {
  "kernelspec": {
   "display_name": "Python 3",
   "language": "python",
   "name": "python3"
  },
  "language_info": {
   "codemirror_mode": {
    "name": "ipython",
    "version": 3
   },
   "file_extension": ".py",
   "mimetype": "text/x-python",
   "name": "python",
   "nbconvert_exporter": "python",
   "pygments_lexer": "ipython3",
   "version": "3.5.3"
  },
  "toc": {
   "nav_menu": {},
   "number_sections": true,
   "sideBar": true,
   "skip_h1_title": false,
   "toc_cell": false,
   "toc_position": {},
   "toc_section_display": "block",
   "toc_window_display": true
  }
 },
 "nbformat": 4,
 "nbformat_minor": 2
}
