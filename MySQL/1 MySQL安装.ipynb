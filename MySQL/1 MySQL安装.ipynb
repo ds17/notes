{
 "cells": [
  {
   "cell_type": "markdown",
   "metadata": {},
   "source": [
    "# MySQL 安装\n",
    "\n",
    "## Connetor\n",
    "### 虚拟环境Python connector\n",
    "需修改注册表，以让MySQL找到已安装版本虚拟环境python版本\n",
    "<br>`HKEY_LOCAL_MACHINE\\SOFTWARE\\Wow6432Node\\Python\\PythonCore\\3.4\\InstallPath</font>`\n",
    "<br>值改为：<font color=\"blue\">D:\\Python\\Anaconda3\\envs\\tensorflow</font>\n",
    "<br><br>需更改文件夹`3.4`名称为对应的python版本，以防connector版本错误"
   ]
  },
  {
   "cell_type": "markdown",
   "metadata": {},
   "source": [
    "## 参考文献\n",
    "1. [Anaconda安装MySQL Python 3.4 is not installed](https://blog.csdn.net/ffscript/article/details/76006566)"
   ]
  }
 ],
 "metadata": {
  "kernelspec": {
   "display_name": "Python 3",
   "language": "python",
   "name": "python3"
  },
  "language_info": {
   "codemirror_mode": {
    "name": "ipython",
    "version": 3
   },
   "file_extension": ".py",
   "mimetype": "text/x-python",
   "name": "python",
   "nbconvert_exporter": "python",
   "pygments_lexer": "ipython3",
   "version": "3.5.3"
  },
  "toc": {
   "nav_menu": {},
   "number_sections": false,
   "sideBar": true,
   "skip_h1_title": false,
   "toc_cell": false,
   "toc_position": {},
   "toc_section_display": "block",
   "toc_window_display": true
  }
 },
 "nbformat": 4,
 "nbformat_minor": 2
}
